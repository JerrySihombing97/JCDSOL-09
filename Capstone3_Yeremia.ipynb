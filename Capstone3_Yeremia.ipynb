{
 "cells": [
  {
   "attachments": {},
   "cell_type": "markdown",
   "metadata": {},
   "source": [
    "# **Saudi Arabia Used Cars** <br> <hr>\n",
    "### Created by: Yeremia Immanuel Sihombing"
   ]
  },
  {
   "attachments": {},
   "cell_type": "markdown",
   "metadata": {},
   "source": [
    "> ## **Contents**\n",
    "\n",
    "1. Business Problem Understanding\n",
    "1. Data Understanding\n",
    "1. Data Processing\n",
    "1. Modeling\n",
    "1. Conclusion\n",
    "1. Recommedation"
   ]
  },
  {
   "attachments": {},
   "cell_type": "markdown",
   "metadata": {},
   "source": [
    "> ## **Business Program Understanding**  <br>\n",
    "\n",
    "### <br>***Context***\n",
    "Terdapat 5624 data mobil bekas yang sudah terjual di Saudi arabia. Dataset yang disediakan dilansir dari [syarah.com](https://www.kaggle.com/datasets/turkibintalib/saudi-arabia-used-cars-dataset). Berbagai informasi mengenai mobil bekas yang terdapat dalam dataset terdiri atas `brand name`, `model`, `manufacturing year`, `origin`, `options`, `engine capacity`, `transmission type`, `mileage that the car covered`, `region price`, and `negotiable`.  <br></br>\n",
    "### <br>***Problem Statement***\n",
    "Seiring dengan bertambanya penjualan mobil bekas, perlu dilakukan penentuan harga yang terdapat untuk setiap mobil bekas yang akan dijual.<br></br>\n",
    "### <br>***Objective***\n",
    "Berdasarkan permasalahan tersebut, diperlukan 'tool' yang dapat menentukan harga yang tepat untuk setiap mobil bekas yang akan dijual.<br></br>\n",
    "### <br>***Analytic Approach***\n",
    "Perlu dilakukan analisis untuk menemukan pola dari fitur-fitur yang ada sehingga dapat diketahui karateristik dari setiap fitur. Selanjutnya, akan dibagun suatu model regresi yang dapat memprediksi harga jual mobil bekas.<br></br>\n",
    "### <br>***Metric Evaluation***\n",
    "Evaluasi metrik yang akan digunakan adalah RMSE, MAE, dan MAPE, di mana RMSE adalah nilai rataan akar kuadrat dari error, MAE adalah rataan nilai absolut dari error, sedangkan MAPE adalah rataan persentase error yang dihasilkan oleh model regresi. Semakin kecil nilai RMSE, MAE, dan MAPE yang dihasilkan, berarti model semakin akurat dalam memprediksi harga sewa sesuai dengan limitasi fitur yang digunakan. <br>\n",
    "Selain itu, dapat digunakan nilai R-squared atau adj. R-squared jika model yang nanti terpilih sebagai final model adalah model linear. Nilai R-squared digunakan untuk mengetahui seberapa baik model dapat merepresentasikan varians keseluruhan data. Semakin mendekati 1, maka semakin fit pula modelnya terhadap data observasi. Namun, metrik ini tidak valid untuk model non-linear.<br></br>"
   ]
  },
  {
   "attachments": {},
   "cell_type": "markdown",
   "metadata": {},
   "source": [
    "> ## **Data Understanding** "
   ]
  },
  {
   "attachments": {},
   "cell_type": "markdown",
   "metadata": {},
   "source": [
    "### ***Library dan Dataset Import***"
   ]
  },
  {
   "attachments": {},
   "cell_type": "markdown",
   "metadata": {},
   "source": [
    "#### Import Library"
   ]
  },
  {
   "cell_type": "code",
   "execution_count": 60,
   "metadata": {},
   "outputs": [],
   "source": [
    "import pandas as pd \n",
    "import numpy as np\n",
    "import matplotlib.pyplot as plt\n",
    "import seaborn as sns\n",
    "\n",
    "#Statistik\n",
    "from scipy.stats import chi2_contingency\n",
    "\n",
    "# Modelling\n",
    "\n",
    "from sklearn.model_selection import train_test_split, cross_val_score, RandomizedSearchCV, GridSearchCV, KFold\n",
    "\n",
    "import category_encoders as ce\n",
    "from sklearn.preprocessing import OneHotEncoder\n",
    "from sklearn.compose import ColumnTransformer\n",
    "from sklearn.pipeline import Pipeline\n",
    "\n",
    "from sklearn.linear_model import LinearRegression\n",
    "from sklearn.neighbors import KNeighborsRegressor\n",
    "from sklearn.tree import DecisionTreeRegressor\n",
    "from sklearn.ensemble import RandomForestRegressor\n",
    "from xgboost.sklearn import XGBRegressor\n",
    "from sklearn.compose import TransformedTargetRegressor\n",
    "\n",
    "from sklearn.preprocessing import StandardScaler\n",
    "\n",
    "from sklearn.metrics import r2_score, mean_squared_error, mean_absolute_error, mean_absolute_percentage_error\n",
    "\n",
    "\n",
    "import warnings\n",
    "warnings.filterwarnings('ignore')"
   ]
  },
  {
   "attachments": {},
   "cell_type": "markdown",
   "metadata": {},
   "source": [
    "#### Import Dataset"
   ]
  },
  {
   "cell_type": "code",
   "execution_count": 61,
   "metadata": {},
   "outputs": [],
   "source": [
    "# Load dataset\n",
    "df = pd.read_csv('data_saudi_used_cars.csv')\n",
    "\n",
    "# Copy dataset\n",
    "df_model = df.copy()"
   ]
  },
  {
   "attachments": {},
   "cell_type": "markdown",
   "metadata": {},
   "source": [
    "Dataset ini berisi informasi terkait data penjualan mobil bekas di Arab Saudi. <br>\n",
    "Ada 11 kolom di dalam dataset `data_saudi_used_cars`, yaitu:  <br>\n",
    "-   Type: Type of used car.\n",
    "-\tRegion: The region in which the used car was offered for sale.\n",
    "-\tMake: The company name.\n",
    "-\tGear_Type: Gear type size of used car.\n",
    "-\tOrigin: Origin of used car.\n",
    "-\tOptions: Options of used car.\n",
    "-\tYear: Manufacturing year.\n",
    "-\tEngine_Size: The engine size of used car.\n",
    "-\tMileage: Mileage of used car\t\n",
    "-\tNegotiable: True if the price is 0, that means it is negotiable.\n",
    "-\tPrice: Used car price.\n",
    "\n",
    "\n",
    "Berikut merupakan tampilan dari dataset."
   ]
  },
  {
   "cell_type": "code",
   "execution_count": 62,
   "metadata": {},
   "outputs": [
    {
     "data": {
      "text/html": [
       "<div>\n",
       "<style scoped>\n",
       "    .dataframe tbody tr th:only-of-type {\n",
       "        vertical-align: middle;\n",
       "    }\n",
       "\n",
       "    .dataframe tbody tr th {\n",
       "        vertical-align: top;\n",
       "    }\n",
       "\n",
       "    .dataframe thead th {\n",
       "        text-align: right;\n",
       "    }\n",
       "</style>\n",
       "<table border=\"1\" class=\"dataframe\">\n",
       "  <thead>\n",
       "    <tr style=\"text-align: right;\">\n",
       "      <th></th>\n",
       "      <th>Type</th>\n",
       "      <th>Region</th>\n",
       "      <th>Make</th>\n",
       "      <th>Gear_Type</th>\n",
       "      <th>Origin</th>\n",
       "      <th>Options</th>\n",
       "      <th>Year</th>\n",
       "      <th>Engine_Size</th>\n",
       "      <th>Mileage</th>\n",
       "      <th>Negotiable</th>\n",
       "      <th>Price</th>\n",
       "    </tr>\n",
       "  </thead>\n",
       "  <tbody>\n",
       "    <tr>\n",
       "      <th>0</th>\n",
       "      <td>Corolla</td>\n",
       "      <td>Abha</td>\n",
       "      <td>Toyota</td>\n",
       "      <td>Manual</td>\n",
       "      <td>Saudi</td>\n",
       "      <td>Standard</td>\n",
       "      <td>2013</td>\n",
       "      <td>1.4</td>\n",
       "      <td>421000</td>\n",
       "      <td>True</td>\n",
       "      <td>0</td>\n",
       "    </tr>\n",
       "    <tr>\n",
       "      <th>1</th>\n",
       "      <td>Yukon</td>\n",
       "      <td>Riyadh</td>\n",
       "      <td>GMC</td>\n",
       "      <td>Automatic</td>\n",
       "      <td>Saudi</td>\n",
       "      <td>Full</td>\n",
       "      <td>2014</td>\n",
       "      <td>8.0</td>\n",
       "      <td>80000</td>\n",
       "      <td>False</td>\n",
       "      <td>120000</td>\n",
       "    </tr>\n",
       "    <tr>\n",
       "      <th>2</th>\n",
       "      <td>Range Rover</td>\n",
       "      <td>Riyadh</td>\n",
       "      <td>Land Rover</td>\n",
       "      <td>Automatic</td>\n",
       "      <td>Gulf Arabic</td>\n",
       "      <td>Full</td>\n",
       "      <td>2015</td>\n",
       "      <td>5.0</td>\n",
       "      <td>140000</td>\n",
       "      <td>False</td>\n",
       "      <td>260000</td>\n",
       "    </tr>\n",
       "    <tr>\n",
       "      <th>3</th>\n",
       "      <td>Optima</td>\n",
       "      <td>Hafar Al-Batin</td>\n",
       "      <td>Kia</td>\n",
       "      <td>Automatic</td>\n",
       "      <td>Saudi</td>\n",
       "      <td>Semi Full</td>\n",
       "      <td>2015</td>\n",
       "      <td>2.4</td>\n",
       "      <td>220000</td>\n",
       "      <td>False</td>\n",
       "      <td>42000</td>\n",
       "    </tr>\n",
       "    <tr>\n",
       "      <th>4</th>\n",
       "      <td>FJ</td>\n",
       "      <td>Riyadh</td>\n",
       "      <td>Toyota</td>\n",
       "      <td>Automatic</td>\n",
       "      <td>Saudi</td>\n",
       "      <td>Full</td>\n",
       "      <td>2020</td>\n",
       "      <td>4.0</td>\n",
       "      <td>49000</td>\n",
       "      <td>True</td>\n",
       "      <td>0</td>\n",
       "    </tr>\n",
       "    <tr>\n",
       "      <th>...</th>\n",
       "      <td>...</td>\n",
       "      <td>...</td>\n",
       "      <td>...</td>\n",
       "      <td>...</td>\n",
       "      <td>...</td>\n",
       "      <td>...</td>\n",
       "      <td>...</td>\n",
       "      <td>...</td>\n",
       "      <td>...</td>\n",
       "      <td>...</td>\n",
       "      <td>...</td>\n",
       "    </tr>\n",
       "    <tr>\n",
       "      <th>5619</th>\n",
       "      <td>X-Trail</td>\n",
       "      <td>Jeddah</td>\n",
       "      <td>Nissan</td>\n",
       "      <td>Automatic</td>\n",
       "      <td>Saudi</td>\n",
       "      <td>Standard</td>\n",
       "      <td>2018</td>\n",
       "      <td>2.5</td>\n",
       "      <td>78794</td>\n",
       "      <td>False</td>\n",
       "      <td>68000</td>\n",
       "    </tr>\n",
       "    <tr>\n",
       "      <th>5620</th>\n",
       "      <td>Altima</td>\n",
       "      <td>Jeddah</td>\n",
       "      <td>Nissan</td>\n",
       "      <td>Automatic</td>\n",
       "      <td>Saudi</td>\n",
       "      <td>Semi Full</td>\n",
       "      <td>2020</td>\n",
       "      <td>2.5</td>\n",
       "      <td>58000</td>\n",
       "      <td>True</td>\n",
       "      <td>0</td>\n",
       "    </tr>\n",
       "    <tr>\n",
       "      <th>5621</th>\n",
       "      <td>Yukon</td>\n",
       "      <td>Dammam</td>\n",
       "      <td>GMC</td>\n",
       "      <td>Automatic</td>\n",
       "      <td>Saudi</td>\n",
       "      <td>Full</td>\n",
       "      <td>2016</td>\n",
       "      <td>5.3</td>\n",
       "      <td>48000</td>\n",
       "      <td>False</td>\n",
       "      <td>145000</td>\n",
       "    </tr>\n",
       "    <tr>\n",
       "      <th>5622</th>\n",
       "      <td>RX</td>\n",
       "      <td>Dammam</td>\n",
       "      <td>Lexus</td>\n",
       "      <td>Automatic</td>\n",
       "      <td>Gulf Arabic</td>\n",
       "      <td>Full</td>\n",
       "      <td>2016</td>\n",
       "      <td>2.5</td>\n",
       "      <td>81000</td>\n",
       "      <td>False</td>\n",
       "      <td>154000</td>\n",
       "    </tr>\n",
       "    <tr>\n",
       "      <th>5623</th>\n",
       "      <td>ES</td>\n",
       "      <td>Jeddah</td>\n",
       "      <td>Lexus</td>\n",
       "      <td>Automatic</td>\n",
       "      <td>Other</td>\n",
       "      <td>Full</td>\n",
       "      <td>2017</td>\n",
       "      <td>3.5</td>\n",
       "      <td>115000</td>\n",
       "      <td>True</td>\n",
       "      <td>0</td>\n",
       "    </tr>\n",
       "  </tbody>\n",
       "</table>\n",
       "<p>5624 rows × 11 columns</p>\n",
       "</div>"
      ],
      "text/plain": [
       "             Type          Region        Make  Gear_Type       Origin  \\\n",
       "0         Corolla            Abha      Toyota     Manual        Saudi   \n",
       "1           Yukon          Riyadh         GMC  Automatic        Saudi   \n",
       "2     Range Rover          Riyadh  Land Rover  Automatic  Gulf Arabic   \n",
       "3          Optima  Hafar Al-Batin         Kia  Automatic        Saudi   \n",
       "4              FJ          Riyadh      Toyota  Automatic        Saudi   \n",
       "...           ...             ...         ...        ...          ...   \n",
       "5619      X-Trail          Jeddah      Nissan  Automatic        Saudi   \n",
       "5620       Altima          Jeddah      Nissan  Automatic        Saudi   \n",
       "5621        Yukon          Dammam         GMC  Automatic        Saudi   \n",
       "5622           RX          Dammam       Lexus  Automatic  Gulf Arabic   \n",
       "5623           ES          Jeddah       Lexus  Automatic        Other   \n",
       "\n",
       "        Options  Year  Engine_Size  Mileage  Negotiable   Price  \n",
       "0      Standard  2013          1.4   421000        True       0  \n",
       "1          Full  2014          8.0    80000       False  120000  \n",
       "2          Full  2015          5.0   140000       False  260000  \n",
       "3     Semi Full  2015          2.4   220000       False   42000  \n",
       "4          Full  2020          4.0    49000        True       0  \n",
       "...         ...   ...          ...      ...         ...     ...  \n",
       "5619   Standard  2018          2.5    78794       False   68000  \n",
       "5620  Semi Full  2020          2.5    58000        True       0  \n",
       "5621       Full  2016          5.3    48000       False  145000  \n",
       "5622       Full  2016          2.5    81000       False  154000  \n",
       "5623       Full  2017          3.5   115000        True       0  \n",
       "\n",
       "[5624 rows x 11 columns]"
      ]
     },
     "execution_count": 62,
     "metadata": {},
     "output_type": "execute_result"
    }
   ],
   "source": [
    "df"
   ]
  },
  {
   "attachments": {},
   "cell_type": "markdown",
   "metadata": {},
   "source": [
    "### ***Exploratory Data Analysis***"
   ]
  },
  {
   "attachments": {},
   "cell_type": "markdown",
   "metadata": {},
   "source": [
    "#### Attributes Information"
   ]
  },
  {
   "cell_type": "code",
   "execution_count": 63,
   "metadata": {},
   "outputs": [
    {
     "data": {
      "text/html": [
       "<div>\n",
       "<style scoped>\n",
       "    .dataframe tbody tr th:only-of-type {\n",
       "        vertical-align: middle;\n",
       "    }\n",
       "\n",
       "    .dataframe tbody tr th {\n",
       "        vertical-align: top;\n",
       "    }\n",
       "\n",
       "    .dataframe thead th {\n",
       "        text-align: right;\n",
       "    }\n",
       "</style>\n",
       "<table border=\"1\" class=\"dataframe\">\n",
       "  <thead>\n",
       "    <tr style=\"text-align: right;\">\n",
       "      <th></th>\n",
       "      <th>dataFeatures</th>\n",
       "      <th>dataType</th>\n",
       "      <th>null</th>\n",
       "      <th>nullPct</th>\n",
       "      <th>unique</th>\n",
       "      <th>uniqueSample</th>\n",
       "    </tr>\n",
       "  </thead>\n",
       "  <tbody>\n",
       "    <tr>\n",
       "      <th>0</th>\n",
       "      <td>Type</td>\n",
       "      <td>object</td>\n",
       "      <td>0</td>\n",
       "      <td>0.0</td>\n",
       "      <td>347</td>\n",
       "      <td>[NX, 500]</td>\n",
       "    </tr>\n",
       "    <tr>\n",
       "      <th>1</th>\n",
       "      <td>Region</td>\n",
       "      <td>object</td>\n",
       "      <td>0</td>\n",
       "      <td>0.0</td>\n",
       "      <td>27</td>\n",
       "      <td>[Qurayyat, Al-Jouf]</td>\n",
       "    </tr>\n",
       "    <tr>\n",
       "      <th>2</th>\n",
       "      <td>Make</td>\n",
       "      <td>object</td>\n",
       "      <td>0</td>\n",
       "      <td>0.0</td>\n",
       "      <td>58</td>\n",
       "      <td>[Mercedes, Rolls-Royce]</td>\n",
       "    </tr>\n",
       "    <tr>\n",
       "      <th>3</th>\n",
       "      <td>Gear_Type</td>\n",
       "      <td>object</td>\n",
       "      <td>0</td>\n",
       "      <td>0.0</td>\n",
       "      <td>2</td>\n",
       "      <td>[Manual, Automatic]</td>\n",
       "    </tr>\n",
       "    <tr>\n",
       "      <th>4</th>\n",
       "      <td>Origin</td>\n",
       "      <td>object</td>\n",
       "      <td>0</td>\n",
       "      <td>0.0</td>\n",
       "      <td>4</td>\n",
       "      <td>[Unknown, Gulf Arabic]</td>\n",
       "    </tr>\n",
       "    <tr>\n",
       "      <th>5</th>\n",
       "      <td>Options</td>\n",
       "      <td>object</td>\n",
       "      <td>0</td>\n",
       "      <td>0.0</td>\n",
       "      <td>3</td>\n",
       "      <td>[Standard, Full]</td>\n",
       "    </tr>\n",
       "    <tr>\n",
       "      <th>6</th>\n",
       "      <td>Year</td>\n",
       "      <td>int64</td>\n",
       "      <td>0</td>\n",
       "      <td>0.0</td>\n",
       "      <td>50</td>\n",
       "      <td>[1993, 1986]</td>\n",
       "    </tr>\n",
       "    <tr>\n",
       "      <th>7</th>\n",
       "      <td>Engine_Size</td>\n",
       "      <td>float64</td>\n",
       "      <td>0</td>\n",
       "      <td>0.0</td>\n",
       "      <td>71</td>\n",
       "      <td>[3.5, 2.9]</td>\n",
       "    </tr>\n",
       "    <tr>\n",
       "      <th>8</th>\n",
       "      <td>Mileage</td>\n",
       "      <td>int64</td>\n",
       "      <td>0</td>\n",
       "      <td>0.0</td>\n",
       "      <td>1716</td>\n",
       "      <td>[94283, 115300]</td>\n",
       "    </tr>\n",
       "    <tr>\n",
       "      <th>9</th>\n",
       "      <td>Negotiable</td>\n",
       "      <td>bool</td>\n",
       "      <td>0</td>\n",
       "      <td>0.0</td>\n",
       "      <td>2</td>\n",
       "      <td>[False, True]</td>\n",
       "    </tr>\n",
       "    <tr>\n",
       "      <th>10</th>\n",
       "      <td>Price</td>\n",
       "      <td>int64</td>\n",
       "      <td>0</td>\n",
       "      <td>0.0</td>\n",
       "      <td>467</td>\n",
       "      <td>[14500, 126500]</td>\n",
       "    </tr>\n",
       "  </tbody>\n",
       "</table>\n",
       "</div>"
      ],
      "text/plain": [
       "   dataFeatures dataType  null  nullPct  unique             uniqueSample\n",
       "0          Type   object     0      0.0     347                [NX, 500]\n",
       "1        Region   object     0      0.0      27      [Qurayyat, Al-Jouf]\n",
       "2          Make   object     0      0.0      58  [Mercedes, Rolls-Royce]\n",
       "3     Gear_Type   object     0      0.0       2      [Manual, Automatic]\n",
       "4        Origin   object     0      0.0       4   [Unknown, Gulf Arabic]\n",
       "5       Options   object     0      0.0       3         [Standard, Full]\n",
       "6          Year    int64     0      0.0      50             [1993, 1986]\n",
       "7   Engine_Size  float64     0      0.0      71               [3.5, 2.9]\n",
       "8       Mileage    int64     0      0.0    1716          [94283, 115300]\n",
       "9    Negotiable     bool     0      0.0       2            [False, True]\n",
       "10        Price    int64     0      0.0     467          [14500, 126500]"
      ]
     },
     "execution_count": 63,
     "metadata": {},
     "output_type": "execute_result"
    }
   ],
   "source": [
    "listItem = []\n",
    "for col in df.columns :\n",
    "    listItem.append([col, df[col].dtype, df[col].isna().sum(), round((df[col].isna().sum()/len(df[col])) * 100,2),\n",
    "                    df[col].nunique(), list(df[col].drop_duplicates().sample(2).values)])\n",
    "\n",
    "dfDesc = pd.DataFrame(columns=['dataFeatures', 'dataType', 'null', 'nullPct', 'unique', 'uniqueSample'],\n",
    "                     data=listItem)\n",
    "dfDesc"
   ]
  },
  {
   "attachments": {},
   "cell_type": "markdown",
   "metadata": {},
   "source": [
    "#### Numerical and Categorical Features DIstribution"
   ]
  },
  {
   "cell_type": "code",
   "execution_count": 64,
   "metadata": {},
   "outputs": [
    {
     "data": {
      "text/html": [
       "<div>\n",
       "<style scoped>\n",
       "    .dataframe tbody tr th:only-of-type {\n",
       "        vertical-align: middle;\n",
       "    }\n",
       "\n",
       "    .dataframe tbody tr th {\n",
       "        vertical-align: top;\n",
       "    }\n",
       "\n",
       "    .dataframe thead th {\n",
       "        text-align: right;\n",
       "    }\n",
       "</style>\n",
       "<table border=\"1\" class=\"dataframe\">\n",
       "  <thead>\n",
       "    <tr style=\"text-align: right;\">\n",
       "      <th></th>\n",
       "      <th>Year</th>\n",
       "      <th>Engine_Size</th>\n",
       "      <th>Mileage</th>\n",
       "      <th>Price</th>\n",
       "    </tr>\n",
       "  </thead>\n",
       "  <tbody>\n",
       "    <tr>\n",
       "      <th>count</th>\n",
       "      <td>5624.000000</td>\n",
       "      <td>5624.000000</td>\n",
       "      <td>5.624000e+03</td>\n",
       "      <td>5624.000000</td>\n",
       "    </tr>\n",
       "    <tr>\n",
       "      <th>mean</th>\n",
       "      <td>2014.101885</td>\n",
       "      <td>3.295430</td>\n",
       "      <td>1.509234e+05</td>\n",
       "      <td>53074.058144</td>\n",
       "    </tr>\n",
       "    <tr>\n",
       "      <th>std</th>\n",
       "      <td>5.791606</td>\n",
       "      <td>1.515108</td>\n",
       "      <td>3.828360e+05</td>\n",
       "      <td>70155.340614</td>\n",
       "    </tr>\n",
       "    <tr>\n",
       "      <th>min</th>\n",
       "      <td>1963.000000</td>\n",
       "      <td>1.000000</td>\n",
       "      <td>1.000000e+02</td>\n",
       "      <td>0.000000</td>\n",
       "    </tr>\n",
       "    <tr>\n",
       "      <th>25%</th>\n",
       "      <td>2012.000000</td>\n",
       "      <td>2.000000</td>\n",
       "      <td>3.800000e+04</td>\n",
       "      <td>0.000000</td>\n",
       "    </tr>\n",
       "    <tr>\n",
       "      <th>50%</th>\n",
       "      <td>2016.000000</td>\n",
       "      <td>3.000000</td>\n",
       "      <td>1.030000e+05</td>\n",
       "      <td>36500.000000</td>\n",
       "    </tr>\n",
       "    <tr>\n",
       "      <th>75%</th>\n",
       "      <td>2018.000000</td>\n",
       "      <td>4.500000</td>\n",
       "      <td>1.960000e+05</td>\n",
       "      <td>72932.500000</td>\n",
       "    </tr>\n",
       "    <tr>\n",
       "      <th>max</th>\n",
       "      <td>2022.000000</td>\n",
       "      <td>9.000000</td>\n",
       "      <td>2.000000e+07</td>\n",
       "      <td>850000.000000</td>\n",
       "    </tr>\n",
       "  </tbody>\n",
       "</table>\n",
       "</div>"
      ],
      "text/plain": [
       "              Year  Engine_Size       Mileage          Price\n",
       "count  5624.000000  5624.000000  5.624000e+03    5624.000000\n",
       "mean   2014.101885     3.295430  1.509234e+05   53074.058144\n",
       "std       5.791606     1.515108  3.828360e+05   70155.340614\n",
       "min    1963.000000     1.000000  1.000000e+02       0.000000\n",
       "25%    2012.000000     2.000000  3.800000e+04       0.000000\n",
       "50%    2016.000000     3.000000  1.030000e+05   36500.000000\n",
       "75%    2018.000000     4.500000  1.960000e+05   72932.500000\n",
       "max    2022.000000     9.000000  2.000000e+07  850000.000000"
      ]
     },
     "execution_count": 64,
     "metadata": {},
     "output_type": "execute_result"
    }
   ],
   "source": [
    "df.describe()"
   ]
  },
  {
   "cell_type": "code",
   "execution_count": 65,
   "metadata": {},
   "outputs": [
    {
     "data": {
      "text/html": [
       "<div>\n",
       "<style scoped>\n",
       "    .dataframe tbody tr th:only-of-type {\n",
       "        vertical-align: middle;\n",
       "    }\n",
       "\n",
       "    .dataframe tbody tr th {\n",
       "        vertical-align: top;\n",
       "    }\n",
       "\n",
       "    .dataframe thead th {\n",
       "        text-align: right;\n",
       "    }\n",
       "</style>\n",
       "<table border=\"1\" class=\"dataframe\">\n",
       "  <thead>\n",
       "    <tr style=\"text-align: right;\">\n",
       "      <th></th>\n",
       "      <th>Type</th>\n",
       "      <th>Region</th>\n",
       "      <th>Make</th>\n",
       "      <th>Gear_Type</th>\n",
       "      <th>Origin</th>\n",
       "      <th>Options</th>\n",
       "    </tr>\n",
       "  </thead>\n",
       "  <tbody>\n",
       "    <tr>\n",
       "      <th>count</th>\n",
       "      <td>5624</td>\n",
       "      <td>5624</td>\n",
       "      <td>5624</td>\n",
       "      <td>5624</td>\n",
       "      <td>5624</td>\n",
       "      <td>5624</td>\n",
       "    </tr>\n",
       "    <tr>\n",
       "      <th>unique</th>\n",
       "      <td>347</td>\n",
       "      <td>27</td>\n",
       "      <td>58</td>\n",
       "      <td>2</td>\n",
       "      <td>4</td>\n",
       "      <td>3</td>\n",
       "    </tr>\n",
       "    <tr>\n",
       "      <th>top</th>\n",
       "      <td>Land Cruiser</td>\n",
       "      <td>Riyadh</td>\n",
       "      <td>Toyota</td>\n",
       "      <td>Automatic</td>\n",
       "      <td>Saudi</td>\n",
       "      <td>Full</td>\n",
       "    </tr>\n",
       "    <tr>\n",
       "      <th>freq</th>\n",
       "      <td>269</td>\n",
       "      <td>2272</td>\n",
       "      <td>1431</td>\n",
       "      <td>4875</td>\n",
       "      <td>4188</td>\n",
       "      <td>2233</td>\n",
       "    </tr>\n",
       "  </tbody>\n",
       "</table>\n",
       "</div>"
      ],
      "text/plain": [
       "                Type  Region    Make  Gear_Type Origin Options\n",
       "count           5624    5624    5624       5624   5624    5624\n",
       "unique           347      27      58          2      4       3\n",
       "top     Land Cruiser  Riyadh  Toyota  Automatic  Saudi    Full\n",
       "freq             269    2272    1431       4875   4188    2233"
      ]
     },
     "execution_count": 65,
     "metadata": {},
     "output_type": "execute_result"
    }
   ],
   "source": [
    "df.describe(include='object')"
   ]
  },
  {
   "attachments": {},
   "cell_type": "markdown",
   "metadata": {},
   "source": [
    "Dari hasl analisis diatas, tidak terdapat anomali pada hasil deskripsi data."
   ]
  },
  {
   "attachments": {},
   "cell_type": "markdown",
   "metadata": {},
   "source": [
    "#### Missing Value"
   ]
  },
  {
   "cell_type": "code",
   "execution_count": 66,
   "metadata": {},
   "outputs": [
    {
     "data": {
      "text/plain": [
       "Type           0.0\n",
       "Region         0.0\n",
       "Make           0.0\n",
       "Gear_Type      0.0\n",
       "Origin         0.0\n",
       "Options        0.0\n",
       "Year           0.0\n",
       "Engine_Size    0.0\n",
       "Mileage        0.0\n",
       "Negotiable     0.0\n",
       "Price          0.0\n",
       "dtype: float64"
      ]
     },
     "execution_count": 66,
     "metadata": {},
     "output_type": "execute_result"
    }
   ],
   "source": [
    "df.isna().sum()/df.shape[0]*100"
   ]
  },
  {
   "attachments": {},
   "cell_type": "markdown",
   "metadata": {},
   "source": [
    "Dari hasil analisis diatas, tidak terdapat data hilang di dalam setiap fitur. Maka dari itu, tidak butuhkan pembersihan dataset."
   ]
  },
  {
   "attachments": {},
   "cell_type": "markdown",
   "metadata": {},
   "source": [
    "#### Data Correlation"
   ]
  },
  {
   "cell_type": "code",
   "execution_count": 67,
   "metadata": {},
   "outputs": [
    {
     "data": {
      "text/plain": [
       "Text(0.5, 1.0, 'Correlation Matrix')"
      ]
     },
     "execution_count": 67,
     "metadata": {},
     "output_type": "execute_result"
    },
    {
     "data": {
      "image/png": "[encoded data removed]",
      "text/plain": [
       "<Figure size 1500x1200 with 2 Axes>"
      ]
     },
     "metadata": {},
     "output_type": "display_data"
    }
   ],
   "source": [
    "plt.figure(figsize=(15, 12))\n",
    "palette=sns.diverging_palette(20, 220, n=256)\n",
    "corr = df.corr(method='pearson')\n",
    "sns.heatmap(corr, annot=True, fmt='.2f', cmap=palette, square=True, linewidths=.5)\n",
    "plt.title('Correlation Matrix', size=15, weight='bold')"
   ]
  },
  {
   "attachments": {},
   "cell_type": "markdown",
   "metadata": {},
   "source": [
    "*Correlation Matrix* menunjukkan bahwa tidak ada kategori fitur yang memiliki korelasi tinggi antar kategori."
   ]
  },
  {
   "attachments": {},
   "cell_type": "markdown",
   "metadata": {},
   "source": [
    "#### Outliers Detection"
   ]
  },
  {
   "cell_type": "code",
   "execution_count": 68,
   "metadata": {},
   "outputs": [
    {
     "data": {
      "text/plain": [
       "<AxesSubplot:>"
      ]
     },
     "execution_count": 68,
     "metadata": {},
     "output_type": "execute_result"
    },
    {
     "data": {
      "image/png": "[encoded data removed]",
      "text/plain": [
       "<Figure size 640x480 with 1 Axes>"
      ]
     },
     "metadata": {},
     "output_type": "display_data"
    }
   ],
   "source": [
    "df.boxplot(rot=90)"
   ]
  },
  {
   "attachments": {},
   "cell_type": "markdown",
   "metadata": {},
   "source": [
    "Dari diagram diatas dapat dilihat bahwa terdapat outliers pada fitur `Mileage` dan `Price`. Perlu dilakukan beberapa rekayasa data pada fitur-fitur dengan mempertimbangkan kombinasi antara hasil dari metode IQR dan juga domain knowledge. Namun, model yang dihasilkan hanya terbatas dapat memprediksi listing baru yang nilai-nilainya pada rentang data berdasarkan 'clean dataset' ini saja."
   ]
  },
  {
   "attachments": {},
   "cell_type": "markdown",
   "metadata": {},
   "source": [
    "Didefinisikan persamaan untuk mendeskripsikan batas outlier pada setiap fitur sebagai berikut."
   ]
  },
  {
   "cell_type": "code",
   "execution_count": 69,
   "metadata": {},
   "outputs": [],
   "source": [
    "# Cek Outliers\n",
    "def find_anomalies(data):\n",
    "    q1 = data.quantile(0.25)\n",
    "    q3 = data.quantile(0.75)\n",
    "    iqr = q3 - q1\n",
    "    limit = iqr*1.5\n",
    "    print(f'IQR: {iqr}')\n",
    "\n",
    "    limit_bawah = q1 - limit\n",
    "    limit_atas = q3 + limit\n",
    "    print(f'limit_bawah: {limit_bawah}')\n",
    "    print(f'limit_atas: {limit_atas}')       "
   ]
  },
  {
   "attachments": {},
   "cell_type": "markdown",
   "metadata": {},
   "source": [
    "### ***Feature Engineering***"
   ]
  },
  {
   "attachments": {},
   "cell_type": "markdown",
   "metadata": {},
   "source": [
    "#### Target: `Price`"
   ]
  },
  {
   "attachments": {},
   "cell_type": "markdown",
   "metadata": {},
   "source": [
    "Fitur `Price` dapat dideskripsikan kembali sebagai berikut."
   ]
  },
  {
   "cell_type": "code",
   "execution_count": 70,
   "metadata": {},
   "outputs": [
    {
     "data": {
      "text/plain": [
       "count      5624.000000\n",
       "mean      53074.058144\n",
       "std       70155.340614\n",
       "min           0.000000\n",
       "25%           0.000000\n",
       "50%       36500.000000\n",
       "75%       72932.500000\n",
       "max      850000.000000\n",
       "Name: Price, dtype: float64"
      ]
     },
     "execution_count": 70,
     "metadata": {},
     "output_type": "execute_result"
    }
   ],
   "source": [
    "df_model['Price'].describe()"
   ]
  },
  {
   "attachments": {},
   "cell_type": "markdown",
   "metadata": {},
   "source": [
    "Pada dataset yang didapatkan perlu diperhatikan bahwa untuk harga dengan dapat dinegoisasikan atau nilai fitur `Negotiable` adalah True, maka nilai `Price` sebesar 0. Oleh karena itu, perlu dilakukan pembersihan data untuk fitur `Price` bernilai 0."
   ]
  },
  {
   "cell_type": "code",
   "execution_count": 71,
   "metadata": {},
   "outputs": [
    {
     "data": {
      "text/plain": [
       "5624"
      ]
     },
     "execution_count": 71,
     "metadata": {},
     "output_type": "execute_result"
    }
   ],
   "source": [
    "df.count()['Price']"
   ]
  },
  {
   "cell_type": "code",
   "execution_count": 72,
   "metadata": {},
   "outputs": [
    {
     "name": "stdout",
     "output_type": "stream",
     "text": [
      "Jumlah fitur Price bernilai 0 adalah  1797\n",
      "Persentase fitur Price bernilai 0 adalah  31.95%\n"
     ]
    }
   ],
   "source": [
    "print('Jumlah fitur Price bernilai 0 adalah ', df[df['Price'] == 0].count()['Price'])\n",
    "print('Persentase fitur Price bernilai 0 adalah ', \"{0:.2f}%\".format(df[df['Price'] == 0].count()['Price']/df.count()['Price']*100))"
   ]
  },
  {
   "cell_type": "code",
   "execution_count": 73,
   "metadata": {},
   "outputs": [
    {
     "data": {
      "text/html": [
       "<div>\n",
       "<style scoped>\n",
       "    .dataframe tbody tr th:only-of-type {\n",
       "        vertical-align: middle;\n",
       "    }\n",
       "\n",
       "    .dataframe tbody tr th {\n",
       "        vertical-align: top;\n",
       "    }\n",
       "\n",
       "    .dataframe thead th {\n",
       "        text-align: right;\n",
       "    }\n",
       "</style>\n",
       "<table border=\"1\" class=\"dataframe\">\n",
       "  <thead>\n",
       "    <tr style=\"text-align: right;\">\n",
       "      <th></th>\n",
       "      <th>Type</th>\n",
       "      <th>Region</th>\n",
       "      <th>Make</th>\n",
       "      <th>Gear_Type</th>\n",
       "      <th>Origin</th>\n",
       "      <th>Options</th>\n",
       "      <th>Year</th>\n",
       "      <th>Engine_Size</th>\n",
       "      <th>Mileage</th>\n",
       "      <th>Negotiable</th>\n",
       "      <th>Price</th>\n",
       "    </tr>\n",
       "  </thead>\n",
       "  <tbody>\n",
       "    <tr>\n",
       "      <th>1</th>\n",
       "      <td>Yukon</td>\n",
       "      <td>Riyadh</td>\n",
       "      <td>GMC</td>\n",
       "      <td>Automatic</td>\n",
       "      <td>Saudi</td>\n",
       "      <td>Full</td>\n",
       "      <td>2014</td>\n",
       "      <td>8.0</td>\n",
       "      <td>80000</td>\n",
       "      <td>False</td>\n",
       "      <td>120000</td>\n",
       "    </tr>\n",
       "    <tr>\n",
       "      <th>2</th>\n",
       "      <td>Range Rover</td>\n",
       "      <td>Riyadh</td>\n",
       "      <td>Land Rover</td>\n",
       "      <td>Automatic</td>\n",
       "      <td>Gulf Arabic</td>\n",
       "      <td>Full</td>\n",
       "      <td>2015</td>\n",
       "      <td>5.0</td>\n",
       "      <td>140000</td>\n",
       "      <td>False</td>\n",
       "      <td>260000</td>\n",
       "    </tr>\n",
       "    <tr>\n",
       "      <th>3</th>\n",
       "      <td>Optima</td>\n",
       "      <td>Hafar Al-Batin</td>\n",
       "      <td>Kia</td>\n",
       "      <td>Automatic</td>\n",
       "      <td>Saudi</td>\n",
       "      <td>Semi Full</td>\n",
       "      <td>2015</td>\n",
       "      <td>2.4</td>\n",
       "      <td>220000</td>\n",
       "      <td>False</td>\n",
       "      <td>42000</td>\n",
       "    </tr>\n",
       "    <tr>\n",
       "      <th>5</th>\n",
       "      <td>CX3</td>\n",
       "      <td>Abha</td>\n",
       "      <td>Mazda</td>\n",
       "      <td>Automatic</td>\n",
       "      <td>Saudi</td>\n",
       "      <td>Semi Full</td>\n",
       "      <td>2019</td>\n",
       "      <td>2.0</td>\n",
       "      <td>25000</td>\n",
       "      <td>False</td>\n",
       "      <td>58000</td>\n",
       "    </tr>\n",
       "    <tr>\n",
       "      <th>6</th>\n",
       "      <td>Cayenne S</td>\n",
       "      <td>Riyadh</td>\n",
       "      <td>Porsche</td>\n",
       "      <td>Automatic</td>\n",
       "      <td>Saudi</td>\n",
       "      <td>Full</td>\n",
       "      <td>2012</td>\n",
       "      <td>4.8</td>\n",
       "      <td>189000</td>\n",
       "      <td>False</td>\n",
       "      <td>85000</td>\n",
       "    </tr>\n",
       "    <tr>\n",
       "      <th>7</th>\n",
       "      <td>Sonata</td>\n",
       "      <td>Riyadh</td>\n",
       "      <td>Hyundai</td>\n",
       "      <td>Automatic</td>\n",
       "      <td>Saudi</td>\n",
       "      <td>Full</td>\n",
       "      <td>2016</td>\n",
       "      <td>2.4</td>\n",
       "      <td>155</td>\n",
       "      <td>False</td>\n",
       "      <td>48000</td>\n",
       "    </tr>\n",
       "    <tr>\n",
       "      <th>8</th>\n",
       "      <td>Avalon</td>\n",
       "      <td>Riyadh</td>\n",
       "      <td>Toyota</td>\n",
       "      <td>Automatic</td>\n",
       "      <td>Saudi</td>\n",
       "      <td>Standard</td>\n",
       "      <td>2016</td>\n",
       "      <td>3.5</td>\n",
       "      <td>110864</td>\n",
       "      <td>False</td>\n",
       "      <td>81500</td>\n",
       "    </tr>\n",
       "    <tr>\n",
       "      <th>10</th>\n",
       "      <td>C300</td>\n",
       "      <td>Makkah</td>\n",
       "      <td>Chrysler</td>\n",
       "      <td>Automatic</td>\n",
       "      <td>Saudi</td>\n",
       "      <td>Full</td>\n",
       "      <td>2013</td>\n",
       "      <td>5.7</td>\n",
       "      <td>200</td>\n",
       "      <td>False</td>\n",
       "      <td>55000</td>\n",
       "    </tr>\n",
       "    <tr>\n",
       "      <th>11</th>\n",
       "      <td>Land Cruiser</td>\n",
       "      <td>Riyadh</td>\n",
       "      <td>Toyota</td>\n",
       "      <td>Automatic</td>\n",
       "      <td>Saudi</td>\n",
       "      <td>Full</td>\n",
       "      <td>2011</td>\n",
       "      <td>4.6</td>\n",
       "      <td>79000</td>\n",
       "      <td>False</td>\n",
       "      <td>145000</td>\n",
       "    </tr>\n",
       "    <tr>\n",
       "      <th>12</th>\n",
       "      <td>LS</td>\n",
       "      <td>Dammam</td>\n",
       "      <td>Lexus</td>\n",
       "      <td>Automatic</td>\n",
       "      <td>Saudi</td>\n",
       "      <td>Full</td>\n",
       "      <td>2008</td>\n",
       "      <td>4.6</td>\n",
       "      <td>299000</td>\n",
       "      <td>False</td>\n",
       "      <td>38000</td>\n",
       "    </tr>\n",
       "  </tbody>\n",
       "</table>\n",
       "</div>"
      ],
      "text/plain": [
       "            Type          Region        Make  Gear_Type       Origin  \\\n",
       "1          Yukon          Riyadh         GMC  Automatic        Saudi   \n",
       "2    Range Rover          Riyadh  Land Rover  Automatic  Gulf Arabic   \n",
       "3         Optima  Hafar Al-Batin         Kia  Automatic        Saudi   \n",
       "5            CX3            Abha       Mazda  Automatic        Saudi   \n",
       "6      Cayenne S          Riyadh     Porsche  Automatic        Saudi   \n",
       "7         Sonata          Riyadh     Hyundai  Automatic        Saudi   \n",
       "8         Avalon          Riyadh      Toyota  Automatic        Saudi   \n",
       "10          C300          Makkah    Chrysler  Automatic        Saudi   \n",
       "11  Land Cruiser          Riyadh      Toyota  Automatic        Saudi   \n",
       "12            LS          Dammam       Lexus  Automatic        Saudi   \n",
       "\n",
       "      Options  Year  Engine_Size  Mileage  Negotiable   Price  \n",
       "1        Full  2014          8.0    80000       False  120000  \n",
       "2        Full  2015          5.0   140000       False  260000  \n",
       "3   Semi Full  2015          2.4   220000       False   42000  \n",
       "5   Semi Full  2019          2.0    25000       False   58000  \n",
       "6        Full  2012          4.8   189000       False   85000  \n",
       "7        Full  2016          2.4      155       False   48000  \n",
       "8    Standard  2016          3.5   110864       False   81500  \n",
       "10       Full  2013          5.7      200       False   55000  \n",
       "11       Full  2011          4.6    79000       False  145000  \n",
       "12       Full  2008          4.6   299000       False   38000  "
      ]
     },
     "execution_count": 73,
     "metadata": {},
     "output_type": "execute_result"
    }
   ],
   "source": [
    "df_model.drop(df_model.index[df_model['Price'] == 0], inplace=True)\n",
    "df_model.head(10)"
   ]
  },
  {
   "attachments": {},
   "cell_type": "markdown",
   "metadata": {},
   "source": [
    "Sebanyak 1797 data atau 31.95% dihapus dari dataset dikarenakan tidak reliable untuk digunakan pada pemodelan."
   ]
  },
  {
   "attachments": {},
   "cell_type": "markdown",
   "metadata": {},
   "source": [
    "Anomali pada distribusi fitur `Price` dapat dianalisis sebagai berikut."
   ]
  },
  {
   "cell_type": "code",
   "execution_count": 74,
   "metadata": {},
   "outputs": [
    {
     "name": "stdout",
     "output_type": "stream",
     "text": [
      "IQR: 72932.5\n",
      "limit_bawah: -109398.75\n",
      "limit_atas: 182331.25\n"
     ]
    }
   ],
   "source": [
    "find_anomalies(df['Price'])"
   ]
  },
  {
   "attachments": {},
   "cell_type": "markdown",
   "metadata": {},
   "source": [
    "Berikut merupakan plot distribusi pada fitur `Price`. "
   ]
  },
  {
   "cell_type": "code",
   "execution_count": 75,
   "metadata": {},
   "outputs": [
    {
     "data": {
      "text/plain": [
       "Text(0.5, 1.0, 'Price Distribution Plot')"
      ]
     },
     "execution_count": 75,
     "metadata": {},
     "output_type": "execute_result"
    },
    {
     "data": {
      "image/png": "[encoded data removed]",
      "text/plain": [
       "<Figure size 700x700 with 1 Axes>"
      ]
     },
     "metadata": {},
     "output_type": "display_data"
    }
   ],
   "source": [
    "# Plot distribusi fitur 'price'\n",
    "plt.figure(figsize=(7, 7))\n",
    "sns.distplot(df['Price'])\n",
    "plt.title('Price Distribution Plot', size=15, weight='bold')"
   ]
  },
  {
   "cell_type": "code",
   "execution_count": 76,
   "metadata": {},
   "outputs": [
    {
     "name": "stdout",
     "output_type": "stream",
     "text": [
      "Jumlah outlier pada fitur Price adalah  261\n",
      "Persentase outlier pada fitur Price adalah  4.64%\n"
     ]
    }
   ],
   "source": [
    "print('Jumlah outlier pada fitur Price adalah ', df[df['Price'] > 182331].count()['Price'])\n",
    "print('Persentase outlier pada fitur Price adalah ', \"{0:.2f}%\".format(df[df['Price'] > 182331].count()['Price']/df.count()['Price']*100))"
   ]
  },
  {
   "attachments": {},
   "cell_type": "markdown",
   "metadata": {},
   "source": [
    "Berdasarkan plot distribusi, harga penjualan mobil bekas di Arab Saudi,terdapat *right-skewed distribution* atau terdapat skewness positif pada fitur price. <br>\n",
    "Terdapat 4.64% outlier pada fitur `Price` dimana harga berada diatas 182.331. Persentase ini cukup kecil sehingga dapat dihilangkan dari pemodelan sehingga nilai skewness dapat berkurang. Namun, hal ini dapat menjadi limitasi dari model yang dibangun."
   ]
  },
  {
   "cell_type": "code",
   "execution_count": 77,
   "metadata": {},
   "outputs": [],
   "source": [
    "df_model = df_model[(df_model['Price'] <= 182500)]"
   ]
  },
  {
   "cell_type": "code",
   "execution_count": 78,
   "metadata": {},
   "outputs": [
    {
     "data": {
      "text/plain": [
       "Text(0.5, 0, 'Range Selected Price')"
      ]
     },
     "execution_count": 78,
     "metadata": {},
     "output_type": "execute_result"
    },
    {
     "data": {
      "image/png": "[encoded data removed]",
      "text/plain": [
       "<Figure size 2100x600 with 2 Axes>"
      ]
     },
     "metadata": {},
     "output_type": "display_data"
    }
   ],
   "source": [
    "fig, axes = plt.subplots(1,2, figsize=(21, 6))\n",
    "sns.distplot(df['Price'], ax=axes[0])\n",
    "sns.distplot(df_model['Price'], ax=axes[1])\n",
    "axes[0].set_xlabel('Price')\n",
    "axes[1].set_xlabel('Range Selected Price')"
   ]
  },
  {
   "cell_type": "code",
   "execution_count": 79,
   "metadata": {},
   "outputs": [
    {
     "data": {
      "text/plain": [
       "count      3566.000000\n",
       "mean      62855.609366\n",
       "std       39318.871216\n",
       "min           1.000000\n",
       "25%       34850.000000\n",
       "50%       55000.000000\n",
       "75%       81500.000000\n",
       "max      182000.000000\n",
       "Name: Price, dtype: float64"
      ]
     },
     "execution_count": 79,
     "metadata": {},
     "output_type": "execute_result"
    }
   ],
   "source": [
    "df_model['Price'].describe()"
   ]
  },
  {
   "attachments": {},
   "cell_type": "markdown",
   "metadata": {},
   "source": [
    "Hasil pembersihan data pada fitur `Price` telah memberikan distribusi yang lebih baik serta data yang lebih reliable dibandingkan dataset sebelumnya."
   ]
  },
  {
   "attachments": {},
   "cell_type": "markdown",
   "metadata": {},
   "source": [
    "#### Feature: `Mileage`"
   ]
  },
  {
   "attachments": {},
   "cell_type": "markdown",
   "metadata": {},
   "source": [
    "Fitur `Mileage` dapat dideskripsikan kembali sebagai berikut."
   ]
  },
  {
   "cell_type": "code",
   "execution_count": 80,
   "metadata": {},
   "outputs": [
    {
     "data": {
      "text/plain": [
       "count    5.624000e+03\n",
       "mean     1.509234e+05\n",
       "std      3.828360e+05\n",
       "min      1.000000e+02\n",
       "25%      3.800000e+04\n",
       "50%      1.030000e+05\n",
       "75%      1.960000e+05\n",
       "max      2.000000e+07\n",
       "Name: Mileage, dtype: float64"
      ]
     },
     "execution_count": 80,
     "metadata": {},
     "output_type": "execute_result"
    }
   ],
   "source": [
    "df['Mileage'].describe()"
   ]
  },
  {
   "attachments": {},
   "cell_type": "markdown",
   "metadata": {},
   "source": [
    "Anomali pada distribusi fitur `Mileage` dapat dianalisis sebagai berikut."
   ]
  },
  {
   "cell_type": "code",
   "execution_count": 81,
   "metadata": {},
   "outputs": [
    {
     "name": "stdout",
     "output_type": "stream",
     "text": [
      "IQR: 158000.0\n",
      "limit_bawah: -199000.0\n",
      "limit_atas: 433000.0\n"
     ]
    }
   ],
   "source": [
    "find_anomalies(df['Mileage'])"
   ]
  },
  {
   "attachments": {},
   "cell_type": "markdown",
   "metadata": {},
   "source": [
    "Berikut merupakan plot distribusi pada fitur `Mileage`. "
   ]
  },
  {
   "cell_type": "code",
   "execution_count": 82,
   "metadata": {},
   "outputs": [
    {
     "data": {
      "text/plain": [
       "Text(0.5, 1.0, 'Mileage Distribution Plot')"
      ]
     },
     "execution_count": 82,
     "metadata": {},
     "output_type": "execute_result"
    },
    {
     "data": {
      "image/png": "[encoded data removed]",
      "text/plain": [
       "<Figure size 700x700 with 1 Axes>"
      ]
     },
     "metadata": {},
     "output_type": "display_data"
    }
   ],
   "source": [
    "# Plot distribusi fitur 'price'\n",
    "plt.figure(figsize=(7, 7))\n",
    "sns.distplot(df['Mileage'])\n",
    "plt.title('Mileage Distribution Plot', size=15, weight='bold')"
   ]
  },
  {
   "cell_type": "code",
   "execution_count": 83,
   "metadata": {},
   "outputs": [
    {
     "name": "stdout",
     "output_type": "stream",
     "text": [
      "Jumlah outlier pada fitur Mileage adalah  21\n",
      "Persentase outlier pada fitur  Mileage adalah  3.11%\n"
     ]
    }
   ],
   "source": [
    "print('Jumlah outlier pada fitur Mileage adalah ', df[df['Price'] > 433000].count()['Mileage'])\n",
    "print('Persentase outlier pada fitur  Mileage adalah ', \"{0:.2f}%\".format(df[df['Mileage'] > 433000].count()['Mileage']/df.count()['Mileage']*100))"
   ]
  },
  {
   "attachments": {},
   "cell_type": "markdown",
   "metadata": {},
   "source": [
    "Berdasarkan plot distribusi, jarak tempuh pada mobil bekas di Arab Saudi,terdapat *right-skewed distribution* atau terdapat skewness positif pada fitur price. <br>\n",
    "Terdapat 3.11% outlier pada fitur `Mileage` dimana jarak tempuh berada diatas 433.000. Persentase ini cukup kecil sehingga dapat dihilangkan dari pemodelan sehingga nilai skewness dapat berkurang. Namun, hal ini dapat menjadi limitasi dari model yang dibangun."
   ]
  },
  {
   "cell_type": "code",
   "execution_count": 84,
   "metadata": {},
   "outputs": [],
   "source": [
    "df_model = df_model[(df_model['Mileage'] <= 433000)]"
   ]
  },
  {
   "cell_type": "code",
   "execution_count": 85,
   "metadata": {},
   "outputs": [
    {
     "data": {
      "text/plain": [
       "Text(0.5, 0, 'Range Selected Mileage')"
      ]
     },
     "execution_count": 85,
     "metadata": {},
     "output_type": "execute_result"
    },
    {
     "data": {
      "image/png": "[encoded data removed]",
      "text/plain": [
       "<Figure size 2100x600 with 2 Axes>"
      ]
     },
     "metadata": {},
     "output_type": "display_data"
    }
   ],
   "source": [
    "fig, axes = plt.subplots(1,2, figsize=(21, 6))\n",
    "sns.distplot(df['Mileage'], ax=axes[0])\n",
    "sns.distplot(df_model['Mileage'], ax=axes[1])\n",
    "axes[0].set_xlabel('Mileage')\n",
    "axes[1].set_xlabel('Range Selected Mileage')"
   ]
  },
  {
   "cell_type": "code",
   "execution_count": 86,
   "metadata": {},
   "outputs": [
    {
     "data": {
      "text/plain": [
       "count      3485.000000\n",
       "mean     125634.739455\n",
       "std       97641.499411\n",
       "min         100.000000\n",
       "25%       52443.000000\n",
       "50%      106000.000000\n",
       "75%      183000.000000\n",
       "max      433000.000000\n",
       "Name: Mileage, dtype: float64"
      ]
     },
     "execution_count": 86,
     "metadata": {},
     "output_type": "execute_result"
    }
   ],
   "source": [
    "df_model['Mileage'].describe()"
   ]
  },
  {
   "attachments": {},
   "cell_type": "markdown",
   "metadata": {},
   "source": [
    "Hasil pembersihan data pada fitur `Mileage` telah memberikan distribusi yang lebih baik serta data yang lebih reliable dibandingkan dataset sebelumnya."
   ]
  },
  {
   "attachments": {},
   "cell_type": "markdown",
   "metadata": {},
   "source": [
    "#### Feature: `Negotiable`"
   ]
  },
  {
   "attachments": {},
   "cell_type": "markdown",
   "metadata": {},
   "source": [
    "Fitur `Negotiable` tidak dibutuhkan dalam pemodelan karena semua fitur `Price` yang memiliki nilai maka memiliki nilai fitur `Negotiable`sebagai False. Maka dari itu, fitur `Negotiable` akan di-drop dari dataset."
   ]
  },
  {
   "cell_type": "code",
   "execution_count": 87,
   "metadata": {},
   "outputs": [],
   "source": [
    "df_model.drop('Negotiable', axis=1, inplace=True)"
   ]
  },
  {
   "attachments": {},
   "cell_type": "markdown",
   "metadata": {},
   "source": [
    "#### Feature: `Type`"
   ]
  },
  {
   "attachments": {},
   "cell_type": "markdown",
   "metadata": {},
   "source": [
    "Fitur `Type` dapat dideskripsikan kembali sebagai berikut."
   ]
  },
  {
   "cell_type": "code",
   "execution_count": 88,
   "metadata": {},
   "outputs": [
    {
     "data": {
      "text/plain": [
       "count             5624\n",
       "unique             347\n",
       "top       Land Cruiser\n",
       "freq               269\n",
       "Name: Type, dtype: object"
      ]
     },
     "execution_count": 88,
     "metadata": {},
     "output_type": "execute_result"
    }
   ],
   "source": [
    "df['Type'].describe()"
   ]
  },
  {
   "attachments": {},
   "cell_type": "markdown",
   "metadata": {},
   "source": [
    "Fitur `Type` merupakan jenis mobil yang akan dijual. Fitur ini memiliki terlalu banyak unique value yang sebesar 347 jika dibandingkan banyak data yaitu 5624 data. <br>\n",
    "Terdapat kemungkinan agar fitur ini dapat diwakilkan oleh fitur `Make` dan `Engine_size` sehingga perlu dilakukan tes independensi menggunakan metode Chi Square."
   ]
  },
  {
   "cell_type": "code",
   "execution_count": 89,
   "metadata": {},
   "outputs": [
    {
     "name": "stdout",
     "output_type": "stream",
     "text": [
      "p-value:  0.0\n",
      "Dependent (tolak Ho)\n"
     ]
    }
   ],
   "source": [
    "df_ct = pd.crosstab(df['Type'], df['Make'])\n",
    "stat, pvalue, dof, expected = chi2_contingency(df_ct)\n",
    "alpha = 0.05\n",
    "print('p-value: ', pvalue)\n",
    "if pvalue <= alpha:\n",
    "    print('Dependent (tolak Ho)')\n",
    "else:\n",
    "    print('Independent (terima Ho)')"
   ]
  },
  {
   "cell_type": "code",
   "execution_count": 90,
   "metadata": {},
   "outputs": [
    {
     "name": "stdout",
     "output_type": "stream",
     "text": [
      "p-value:  0.0\n",
      "Dependent (tolak Ho)\n"
     ]
    }
   ],
   "source": [
    "df_ct = pd.crosstab(df['Type'], df['Engine_Size'])\n",
    "stat, pvalue, dof, expected = chi2_contingency(df_ct)\n",
    "alpha = 0.05\n",
    "print('p-value: ', pvalue)\n",
    "if pvalue <= alpha:\n",
    "    print('Dependent (tolak Ho)')\n",
    "else:\n",
    "    print('Independent (terima Ho)')"
   ]
  },
  {
   "attachments": {},
   "cell_type": "markdown",
   "metadata": {},
   "source": [
    "Dari hasil perhitungan *chi square* dapat disimpulkan bahwa fitur `Type` memiliki depedensi terhadap fitur `Make` dan `Engine_size`. Maka dari itu fitur `Type` dapat di-drop dari pemodelan."
   ]
  },
  {
   "cell_type": "code",
   "execution_count": 91,
   "metadata": {},
   "outputs": [],
   "source": [
    "df_model.drop('Type', axis=1, inplace=True)"
   ]
  },
  {
   "attachments": {},
   "cell_type": "markdown",
   "metadata": {},
   "source": [
    "#### Feature: `Engine_Size`"
   ]
  },
  {
   "cell_type": "code",
   "execution_count": 92,
   "metadata": {},
   "outputs": [
    {
     "data": {
      "text/plain": [
       "count    5624.000000\n",
       "mean        3.295430\n",
       "std         1.515108\n",
       "min         1.000000\n",
       "25%         2.000000\n",
       "50%         3.000000\n",
       "75%         4.500000\n",
       "max         9.000000\n",
       "Name: Engine_Size, dtype: float64"
      ]
     },
     "execution_count": 92,
     "metadata": {},
     "output_type": "execute_result"
    }
   ],
   "source": [
    "df['Engine_Size'].describe()"
   ]
  },
  {
   "attachments": {},
   "cell_type": "markdown",
   "metadata": {},
   "source": [
    "Anomali pada distribusi fitur `Engine_Size` dapat dianalisis sebagai berikut."
   ]
  },
  {
   "cell_type": "code",
   "execution_count": 93,
   "metadata": {},
   "outputs": [
    {
     "name": "stdout",
     "output_type": "stream",
     "text": [
      "IQR: 2.5\n",
      "limit_bawah: -1.75\n",
      "limit_atas: 8.25\n"
     ]
    }
   ],
   "source": [
    "find_anomalies(df['Engine_Size'])"
   ]
  },
  {
   "attachments": {},
   "cell_type": "markdown",
   "metadata": {},
   "source": [
    "Berikut merupakan plot distribusi pada fitur `Engine_Size`. "
   ]
  },
  {
   "cell_type": "code",
   "execution_count": 94,
   "metadata": {},
   "outputs": [
    {
     "data": {
      "text/plain": [
       "Text(0.5, 1.0, 'Engine_Size Distribution Plot')"
      ]
     },
     "execution_count": 94,
     "metadata": {},
     "output_type": "execute_result"
    },
    {
     "data": {
      "image/png": "[encoded data removed]",
      "text/plain": [
       "<Figure size 700x700 with 1 Axes>"
      ]
     },
     "metadata": {},
     "output_type": "display_data"
    }
   ],
   "source": [
    "# Plot distribusi fitur 'price'\n",
    "plt.figure(figsize=(7, 7))\n",
    "sns.distplot(df['Engine_Size'])\n",
    "plt.title('Engine_Size Distribution Plot', size=15, weight='bold')"
   ]
  },
  {
   "attachments": {},
   "cell_type": "markdown",
   "metadata": {},
   "source": [
    "Tidak terdapat  anomali pada fitur `Engine_Size`"
   ]
  },
  {
   "attachments": {},
   "cell_type": "markdown",
   "metadata": {},
   "source": [
    "#### Feature: `Year`"
   ]
  },
  {
   "cell_type": "code",
   "execution_count": 95,
   "metadata": {},
   "outputs": [
    {
     "data": {
      "text/plain": [
       "count    5624.000000\n",
       "mean     2014.101885\n",
       "std         5.791606\n",
       "min      1963.000000\n",
       "25%      2012.000000\n",
       "50%      2016.000000\n",
       "75%      2018.000000\n",
       "max      2022.000000\n",
       "Name: Year, dtype: float64"
      ]
     },
     "execution_count": 95,
     "metadata": {},
     "output_type": "execute_result"
    }
   ],
   "source": [
    "df['Year'].describe()"
   ]
  },
  {
   "attachments": {},
   "cell_type": "markdown",
   "metadata": {},
   "source": [
    "Anomali pada distribusi fitur `Year` dapat dianalisis sebagai berikut."
   ]
  },
  {
   "cell_type": "code",
   "execution_count": 96,
   "metadata": {},
   "outputs": [
    {
     "name": "stdout",
     "output_type": "stream",
     "text": [
      "IQR: 6.0\n",
      "limit_bawah: 2003.0\n",
      "limit_atas: 2027.0\n"
     ]
    }
   ],
   "source": [
    "find_anomalies(df['Year'])"
   ]
  },
  {
   "attachments": {},
   "cell_type": "markdown",
   "metadata": {},
   "source": [
    "Berikut merupakan plot distribusi pada fitur `Year`. "
   ]
  },
  {
   "cell_type": "code",
   "execution_count": 97,
   "metadata": {},
   "outputs": [
    {
     "data": {
      "text/plain": [
       "Text(0.5, 1.0, 'Year Distribution Plot')"
      ]
     },
     "execution_count": 97,
     "metadata": {},
     "output_type": "execute_result"
    },
    {
     "data": {
      "image/png": "[encoded data removed]",
      "text/plain": [
       "<Figure size 700x700 with 1 Axes>"
      ]
     },
     "metadata": {},
     "output_type": "display_data"
    }
   ],
   "source": [
    "# Plot distribusi fitur 'price'\n",
    "plt.figure(figsize=(7, 7))\n",
    "sns.distplot(df['Year'])\n",
    "plt.title('Year Distribution Plot', size=15, weight='bold')"
   ]
  },
  {
   "cell_type": "code",
   "execution_count": 98,
   "metadata": {},
   "outputs": [
    {
     "name": "stdout",
     "output_type": "stream",
     "text": [
      "Jumlah outlier pada fitur Year adalah  246\n",
      "Persentase outlier pada fitur  Year adalah  4.37%\n"
     ]
    }
   ],
   "source": [
    "print('Jumlah outlier pada fitur Year adalah ', df[df['Year'] < 2003].count()['Year'])\n",
    "print('Persentase outlier pada fitur  Year adalah ', \"{0:.2f}%\".format(df[df['Year'] < 2003].count()['Year']/df.count()['Year']*100))"
   ]
  },
  {
   "attachments": {},
   "cell_type": "markdown",
   "metadata": {},
   "source": [
    "Berdasarkan plot distribusi, jarak tempuh pada mobil bekas di Arab Saudi,terdapat *left-skewed distribution* atau terdapat skewness negatif pada fitur `Year`. <br>\n",
    "Terdapat 4.37% outlier pada fitur `Year` dimana tahun kelauran mobil berada dibawah tahun 2003. Persentase ini cukup kecil sehingga dapat dihilangkan dari pemodelan sehingga nilai skewness dapat berkurang. Namun, hal ini dapat menjadi limitasi dari model yang dibangun."
   ]
  },
  {
   "cell_type": "code",
   "execution_count": 99,
   "metadata": {},
   "outputs": [],
   "source": [
    "df_model = df_model[(df_model['Year'] >= 2003)]"
   ]
  },
  {
   "cell_type": "code",
   "execution_count": 100,
   "metadata": {},
   "outputs": [
    {
     "data": {
      "text/plain": [
       "Text(0.5, 0, 'Range Selected Year')"
      ]
     },
     "execution_count": 100,
     "metadata": {},
     "output_type": "execute_result"
    },
    {
     "data": {
      "image/png": "[encoded data removed]",
      "text/plain": [
       "<Figure size 2100x600 with 2 Axes>"
      ]
     },
     "metadata": {},
     "output_type": "display_data"
    }
   ],
   "source": [
    "fig, axes = plt.subplots(1,2, figsize=(21, 6))\n",
    "sns.distplot(df['Year'], ax=axes[0])\n",
    "sns.distplot(df_model['Year'], ax=axes[1])\n",
    "axes[0].set_xlabel('Year')\n",
    "axes[1].set_xlabel('Range Selected Year')"
   ]
  },
  {
   "cell_type": "code",
   "execution_count": 101,
   "metadata": {},
   "outputs": [
    {
     "data": {
      "text/plain": [
       "count    3392.000000\n",
       "mean     2015.358785\n",
       "std         3.586910\n",
       "min      2003.000000\n",
       "25%      2014.000000\n",
       "50%      2016.000000\n",
       "75%      2018.000000\n",
       "max      2021.000000\n",
       "Name: Year, dtype: float64"
      ]
     },
     "execution_count": 101,
     "metadata": {},
     "output_type": "execute_result"
    }
   ],
   "source": [
    "df_model['Year'].describe()"
   ]
  },
  {
   "attachments": {},
   "cell_type": "markdown",
   "metadata": {},
   "source": [
    "> ## **Data Processing**  <br>"
   ]
  },
  {
   "attachments": {},
   "cell_type": "markdown",
   "metadata": {},
   "source": [
    "#### **Attribute Feature**"
   ]
  },
  {
   "cell_type": "code",
   "execution_count": 102,
   "metadata": {},
   "outputs": [
    {
     "data": {
      "text/html": [
       "<div>\n",
       "<style scoped>\n",
       "    .dataframe tbody tr th:only-of-type {\n",
       "        vertical-align: middle;\n",
       "    }\n",
       "\n",
       "    .dataframe tbody tr th {\n",
       "        vertical-align: top;\n",
       "    }\n",
       "\n",
       "    .dataframe thead th {\n",
       "        text-align: right;\n",
       "    }\n",
       "</style>\n",
       "<table border=\"1\" class=\"dataframe\">\n",
       "  <thead>\n",
       "    <tr style=\"text-align: right;\">\n",
       "      <th></th>\n",
       "      <th>dataFeatures</th>\n",
       "      <th>dataType</th>\n",
       "      <th>unique</th>\n",
       "      <th>uniqueSample</th>\n",
       "    </tr>\n",
       "  </thead>\n",
       "  <tbody>\n",
       "    <tr>\n",
       "      <th>0</th>\n",
       "      <td>Region</td>\n",
       "      <td>object</td>\n",
       "      <td>27</td>\n",
       "      <td>[Sabya, Khobar]</td>\n",
       "    </tr>\n",
       "    <tr>\n",
       "      <th>1</th>\n",
       "      <td>Make</td>\n",
       "      <td>object</td>\n",
       "      <td>53</td>\n",
       "      <td>[BMW, GAC]</td>\n",
       "    </tr>\n",
       "    <tr>\n",
       "      <th>2</th>\n",
       "      <td>Gear_Type</td>\n",
       "      <td>object</td>\n",
       "      <td>2</td>\n",
       "      <td>[Manual, Automatic]</td>\n",
       "    </tr>\n",
       "    <tr>\n",
       "      <th>3</th>\n",
       "      <td>Origin</td>\n",
       "      <td>object</td>\n",
       "      <td>4</td>\n",
       "      <td>[Gulf Arabic, Saudi]</td>\n",
       "    </tr>\n",
       "    <tr>\n",
       "      <th>4</th>\n",
       "      <td>Options</td>\n",
       "      <td>object</td>\n",
       "      <td>3</td>\n",
       "      <td>[Full, Standard]</td>\n",
       "    </tr>\n",
       "    <tr>\n",
       "      <th>5</th>\n",
       "      <td>Year</td>\n",
       "      <td>int64</td>\n",
       "      <td>19</td>\n",
       "      <td>[2020, 2012]</td>\n",
       "    </tr>\n",
       "    <tr>\n",
       "      <th>6</th>\n",
       "      <td>Engine_Size</td>\n",
       "      <td>float64</td>\n",
       "      <td>61</td>\n",
       "      <td>[4.3, 4.4]</td>\n",
       "    </tr>\n",
       "    <tr>\n",
       "      <th>7</th>\n",
       "      <td>Mileage</td>\n",
       "      <td>int64</td>\n",
       "      <td>1209</td>\n",
       "      <td>[91440, 198506]</td>\n",
       "    </tr>\n",
       "    <tr>\n",
       "      <th>8</th>\n",
       "      <td>Price</td>\n",
       "      <td>int64</td>\n",
       "      <td>351</td>\n",
       "      <td>[1, 57000]</td>\n",
       "    </tr>\n",
       "  </tbody>\n",
       "</table>\n",
       "</div>"
      ],
      "text/plain": [
       "  dataFeatures dataType  unique          uniqueSample\n",
       "0       Region   object      27       [Sabya, Khobar]\n",
       "1         Make   object      53            [BMW, GAC]\n",
       "2    Gear_Type   object       2   [Manual, Automatic]\n",
       "3       Origin   object       4  [Gulf Arabic, Saudi]\n",
       "4      Options   object       3      [Full, Standard]\n",
       "5         Year    int64      19          [2020, 2012]\n",
       "6  Engine_Size  float64      61            [4.3, 4.4]\n",
       "7      Mileage    int64    1209       [91440, 198506]\n",
       "8        Price    int64     351            [1, 57000]"
      ]
     },
     "execution_count": 102,
     "metadata": {},
     "output_type": "execute_result"
    }
   ],
   "source": [
    "listItem = []\n",
    "for col in df_model.columns :\n",
    "    listItem.append([col, df_model[col].dtype, df_model[col].nunique(), list(df_model[col].drop_duplicates().sample(2).values)])\n",
    "\n",
    "dfDesc = pd.DataFrame(columns=['dataFeatures', 'dataType', 'unique', 'uniqueSample'],\n",
    "                     data=listItem)\n",
    "dfDesc"
   ]
  },
  {
   "attachments": {},
   "cell_type": "markdown",
   "metadata": {},
   "source": [
    "#### **Encoding**"
   ]
  },
  {
   "attachments": {},
   "cell_type": "markdown",
   "metadata": {},
   "source": [
    "Akan dilakukan fitur encoding untuk setiap fitur kategorikal di dalam dataset. <br>\n",
    "Jenis encoding yang akan dilakukan pada setiap fitur adalah sebagai berikut:\n",
    "1. Fitur `Region` (Nominal): Binary Encoding\n",
    "1. Fitur `Make`(Nominal): Binary Encoding\n",
    "1. Fitur `Gear_Type`(Nominal): One Hot Encoding\n",
    "1. Fitur `Origin`(Nominal): One Hot Encoding\n",
    "1. Fitur `Options`(Nominal): One Hot Encoding\n",
    "1. Fitur `Year`(Nominal): Binary Encoding"
   ]
  },
  {
   "cell_type": "code",
   "execution_count": 103,
   "metadata": {},
   "outputs": [],
   "source": [
    "#Transform Linear Model\n",
    "transformer_lr = ColumnTransformer([\n",
    "    ('onehot', OneHotEncoder(drop='first'), ['Gear_Type','Origin', 'Options']),\n",
    "    ('binary', ce.BinaryEncoder(), ['Region', 'Make', 'Year'])\n",
    "], remainder='passthrough')\n",
    "\n",
    "#Transform Non-Linear Model\n",
    "transformer_nonlr = ColumnTransformer([\n",
    "    ('onehot', OneHotEncoder(), ['Gear_Type','Origin', 'Options']),\n",
    "    ('binary', ce.BinaryEncoder(), ['Region', 'Make', 'Year'])\n",
    "], remainder='passthrough')"
   ]
  },
  {
   "attachments": {},
   "cell_type": "markdown",
   "metadata": {},
   "source": [
    "#### **Data Splitting**"
   ]
  },
  {
   "attachments": {},
   "cell_type": "markdown",
   "metadata": {},
   "source": [
    "Didefinisikan fitur dan target sebagai berikut."
   ]
  },
  {
   "cell_type": "code",
   "execution_count": 104,
   "metadata": {},
   "outputs": [],
   "source": [
    "X = df_model.drop(['Price'], axis=1)\n",
    "y = df_model['Price']"
   ]
  },
  {
   "attachments": {},
   "cell_type": "markdown",
   "metadata": {},
   "source": [
    "Mode dibagi dengan proporsi 60:20:20"
   ]
  },
  {
   "cell_type": "code",
   "execution_count": 105,
   "metadata": {},
   "outputs": [],
   "source": [
    "X_trainval, X_test, y_trainval, y_test= train_test_split(\n",
    "    X,\n",
    "    y,\n",
    "    test_size= 0.2,\n",
    "    random_state=2020)"
   ]
  },
  {
   "cell_type": "code",
   "execution_count": 106,
   "metadata": {},
   "outputs": [],
   "source": [
    "X_train, X_val, y_train, y_val= train_test_split(\n",
    "    X_trainval,\n",
    "    y_trainval,\n",
    "    test_size= 0.25,\n",
    "    random_state=2020)"
   ]
  },
  {
   "attachments": {},
   "cell_type": "markdown",
   "metadata": {},
   "source": [
    "> ## **Modeling**  <br>"
   ]
  },
  {
   "attachments": {},
   "cell_type": "markdown",
   "metadata": {},
   "source": [
    "### **Choose a benchmark Model**\n",
    "\n",
    "Dilakukan pemilihan benchmark model"
   ]
  },
  {
   "cell_type": "code",
   "execution_count": 107,
   "metadata": {},
   "outputs": [],
   "source": [
    "# Define algoritma yang digunakan\n",
    "lr = LinearRegression()\n",
    "knn = KNeighborsRegressor()\n",
    "dt = DecisionTreeRegressor(random_state=2020)\n",
    "rf = RandomForestRegressor(random_state=2020)\n",
    "xgb = XGBRegressor(random_state=2020)\n",
    "\n",
    "# Pemodelan dilakukan dalam skala logaritmik, namun kemudian di-inverse kembali untuk interpretasi\n",
    "log_lr = TransformedTargetRegressor(lr, func=np.log, inverse_func=np.exp)\n",
    "log_knn = TransformedTargetRegressor(knn, func=np.log, inverse_func=np.exp)\n",
    "log_dt = TransformedTargetRegressor(dt, func=np.log, inverse_func=np.exp)\n",
    "log_rf = TransformedTargetRegressor(rf, func=np.log, inverse_func=np.exp)\n",
    "log_xgb = TransformedTargetRegressor(xgb, func=np.log, inverse_func=np.exp)\n",
    "\n",
    "# Scaling data\n",
    "scaler = StandardScaler()\n",
    "\n",
    "# Kandidat algoritma\n",
    "models = [log_lr, log_knn, log_dt, log_rf, log_xgb]\n",
    "\n",
    "score_rmse = []\n",
    "nilai_mean_rmse = []\n",
    "nilai_std_rmse = []\n",
    "\n",
    "score_mae = []\n",
    "nilai_mean_mae = []\n",
    "nilai_std_mae = []\n",
    "\n",
    "score_mape = []\n",
    "nilai_mean_mape = []\n",
    "nilai_std_mape = []\n",
    "\n",
    "# Mencari algoritma terbaik berdasarkan tiap metrics\n",
    "for i in models:\n",
    "    \n",
    "    crossval = KFold(n_splits=5, shuffle=True, random_state=2020)\n",
    "    \n",
    "    if i == log_lr:\n",
    "        estimator = Pipeline([\n",
    "            ('preprocessing', transformer_lr),\n",
    "            ('scaler', scaler),\n",
    "            ('model', i)\n",
    "        ])\n",
    "    elif i == log_knn:\n",
    "        estimator = Pipeline([\n",
    "            ('preprocessing', transformer_nonlr),\n",
    "            ('scaler', scaler),\n",
    "            ('model', i)\n",
    "        ])\n",
    "    else:\n",
    "        estimator = Pipeline([\n",
    "            ('preprocessing', transformer_nonlr),\n",
    "            ('model', i)\n",
    "        ])\n",
    "\n",
    "    # RMSE\n",
    "    model_cv_rmse = cross_val_score(\n",
    "        estimator, \n",
    "        X_train, \n",
    "        y_train, \n",
    "        cv=crossval, \n",
    "        scoring='neg_root_mean_squared_error', \n",
    "        error_score='raise'\n",
    "        )\n",
    "\n",
    "    score_rmse.append(model_cv_rmse)\n",
    "    nilai_mean_rmse.append(model_cv_rmse.mean())\n",
    "    nilai_std_rmse.append(model_cv_rmse.std())\n",
    "\n",
    "    # MAE\n",
    "    model_cv_mae = cross_val_score(\n",
    "        estimator, \n",
    "        X_train, \n",
    "        y_train, \n",
    "        cv=crossval, \n",
    "        scoring='neg_mean_absolute_error', \n",
    "        error_score='raise'\n",
    "        )\n",
    "\n",
    "    score_mae.append(model_cv_mae)\n",
    "    nilai_mean_mae.append(model_cv_mae.mean())\n",
    "    nilai_std_mae.append(model_cv_mae.std())\n",
    "\n",
    "    # MAPE\n",
    "    model_cv_mape = cross_val_score(\n",
    "        estimator, \n",
    "        X_train, \n",
    "        y_train, \n",
    "        cv=crossval, \n",
    "        scoring='neg_mean_absolute_percentage_error', \n",
    "        error_score='raise'\n",
    "        )\n",
    "\n",
    "    score_mape.append(model_cv_mape)\n",
    "    nilai_mean_mape.append(model_cv_mape.mean())\n",
    "    nilai_std_mape.append(model_cv_mape.std())"
   ]
  },
  {
   "cell_type": "code",
   "execution_count": 108,
   "metadata": {},
   "outputs": [
    {
     "data": {
      "text/html": [
       "<div>\n",
       "<style scoped>\n",
       "    .dataframe tbody tr th:only-of-type {\n",
       "        vertical-align: middle;\n",
       "    }\n",
       "\n",
       "    .dataframe tbody tr th {\n",
       "        vertical-align: top;\n",
       "    }\n",
       "\n",
       "    .dataframe thead th {\n",
       "        text-align: right;\n",
       "    }\n",
       "</style>\n",
       "<table border=\"1\" class=\"dataframe\">\n",
       "  <thead>\n",
       "    <tr style=\"text-align: right;\">\n",
       "      <th></th>\n",
       "      <th>Model</th>\n",
       "      <th>Mean_RMSE</th>\n",
       "      <th>Std_RMSE</th>\n",
       "      <th>Mean_MAE</th>\n",
       "      <th>Std_MAE</th>\n",
       "      <th>Mean_MAPE</th>\n",
       "      <th>Std_MAPE</th>\n",
       "    </tr>\n",
       "  </thead>\n",
       "  <tbody>\n",
       "    <tr>\n",
       "      <th>0</th>\n",
       "      <td>Linear Regression</td>\n",
       "      <td>-31424.544961</td>\n",
       "      <td>1594.168281</td>\n",
       "      <td>-21004.136864</td>\n",
       "      <td>921.097488</td>\n",
       "      <td>-1.218000</td>\n",
       "      <td>0.242469</td>\n",
       "    </tr>\n",
       "    <tr>\n",
       "      <th>1</th>\n",
       "      <td>KNN Regressor</td>\n",
       "      <td>-32347.229413</td>\n",
       "      <td>1374.272880</td>\n",
       "      <td>-23066.254177</td>\n",
       "      <td>862.933090</td>\n",
       "      <td>-1.339647</td>\n",
       "      <td>0.252274</td>\n",
       "    </tr>\n",
       "    <tr>\n",
       "      <th>2</th>\n",
       "      <td>DecisionTree Regressor</td>\n",
       "      <td>-32905.023346</td>\n",
       "      <td>1670.032650</td>\n",
       "      <td>-20694.600713</td>\n",
       "      <td>1170.148831</td>\n",
       "      <td>-1.556709</td>\n",
       "      <td>0.296427</td>\n",
       "    </tr>\n",
       "    <tr>\n",
       "      <th>3</th>\n",
       "      <td>RandomForest Regressor</td>\n",
       "      <td>-27271.718623</td>\n",
       "      <td>963.381290</td>\n",
       "      <td>-16990.091347</td>\n",
       "      <td>579.137274</td>\n",
       "      <td>-1.077094</td>\n",
       "      <td>0.260182</td>\n",
       "    </tr>\n",
       "    <tr>\n",
       "      <th>4</th>\n",
       "      <td>XGBoost Regressor</td>\n",
       "      <td>-27534.621230</td>\n",
       "      <td>1154.624728</td>\n",
       "      <td>-17109.360849</td>\n",
       "      <td>650.983250</td>\n",
       "      <td>-1.141889</td>\n",
       "      <td>0.337179</td>\n",
       "    </tr>\n",
       "  </tbody>\n",
       "</table>\n",
       "</div>"
      ],
      "text/plain": [
       "                    Model     Mean_RMSE     Std_RMSE      Mean_MAE  \\\n",
       "0       Linear Regression -31424.544961  1594.168281 -21004.136864   \n",
       "1           KNN Regressor -32347.229413  1374.272880 -23066.254177   \n",
       "2  DecisionTree Regressor -32905.023346  1670.032650 -20694.600713   \n",
       "3  RandomForest Regressor -27271.718623   963.381290 -16990.091347   \n",
       "4       XGBoost Regressor -27534.621230  1154.624728 -17109.360849   \n",
       "\n",
       "       Std_MAE  Mean_MAPE  Std_MAPE  \n",
       "0   921.097488  -1.218000  0.242469  \n",
       "1   862.933090  -1.339647  0.252274  \n",
       "2  1170.148831  -1.556709  0.296427  \n",
       "3   579.137274  -1.077094  0.260182  \n",
       "4   650.983250  -1.141889  0.337179  "
      ]
     },
     "execution_count": 108,
     "metadata": {},
     "output_type": "execute_result"
    }
   ],
   "source": [
    "pd.DataFrame({\n",
    "    'Model': ['Linear Regression', 'KNN Regressor', 'DecisionTree Regressor', 'RandomForest Regressor', 'XGBoost Regressor'],\n",
    "    'Mean_RMSE': nilai_mean_rmse,\n",
    "    'Std_RMSE': nilai_std_rmse,\n",
    "    'Mean_MAE': nilai_mean_mae,\n",
    "    'Std_MAE': nilai_std_mae,\n",
    "    'Mean_MAPE': nilai_mean_mape,\n",
    "    'Std_MAPE': nilai_std_mape\n",
    "})"
   ]
  },
  {
   "attachments": {},
   "cell_type": "markdown",
   "metadata": {},
   "source": [
    "- Berdasarkan nilai RMSE, MAE dan MAPE, RandomForestRegressor adalah model terbaik. Sedangkan,XGBoost memiliki nilai kedua paling rendah.\n",
    "- Selanjutnya, akan dilakukan prediksi pada test set dengan 2 benchmark model terbaik, yaitu RandomForestRegressor dan XGBoost."
   ]
  },
  {
   "attachments": {},
   "cell_type": "markdown",
   "metadata": {},
   "source": [
    "### **Predict to Test Set with the Benchmark Model**\n",
    "Prediksi pada test set dengan menggunakan model RandomForestRegressor dan KNN Regressor"
   ]
  },
  {
   "cell_type": "code",
   "execution_count": 109,
   "metadata": {},
   "outputs": [
    {
     "data": {
      "text/html": [
       "<div>\n",
       "<style scoped>\n",
       "    .dataframe tbody tr th:only-of-type {\n",
       "        vertical-align: middle;\n",
       "    }\n",
       "\n",
       "    .dataframe tbody tr th {\n",
       "        vertical-align: top;\n",
       "    }\n",
       "\n",
       "    .dataframe thead th {\n",
       "        text-align: right;\n",
       "    }\n",
       "</style>\n",
       "<table border=\"1\" class=\"dataframe\">\n",
       "  <thead>\n",
       "    <tr style=\"text-align: right;\">\n",
       "      <th></th>\n",
       "      <th>RMSE</th>\n",
       "      <th>MAE</th>\n",
       "      <th>MAPE</th>\n",
       "    </tr>\n",
       "  </thead>\n",
       "  <tbody>\n",
       "    <tr>\n",
       "      <th>RFG</th>\n",
       "      <td>21925.52504</td>\n",
       "      <td>14010.311728</td>\n",
       "      <td>199.929465</td>\n",
       "    </tr>\n",
       "    <tr>\n",
       "      <th>XGB</th>\n",
       "      <td>21050.29682</td>\n",
       "      <td>13759.109266</td>\n",
       "      <td>206.985667</td>\n",
       "    </tr>\n",
       "  </tbody>\n",
       "</table>\n",
       "</div>"
      ],
      "text/plain": [
       "            RMSE           MAE        MAPE\n",
       "RFG  21925.52504  14010.311728  199.929465\n",
       "XGB  21050.29682  13759.109266  206.985667"
      ]
     },
     "execution_count": 109,
     "metadata": {},
     "output_type": "execute_result"
    }
   ],
   "source": [
    "models = {\n",
    "    'RFG': RandomForestRegressor(random_state=2020),\n",
    "    'XGB': XGBRegressor(random_state=2020)\n",
    "}\n",
    "\n",
    "score_rmse = []\n",
    "score_mae = []\n",
    "score_mape = []\n",
    "\n",
    "# Prediksi pada test set\n",
    "for i in models:\n",
    "\n",
    "    model = Pipeline([\n",
    "        ('preprocessing', transformer_nonlr),\n",
    "        ('model', models[i])\n",
    "        ])\n",
    "\n",
    "    model.fit(X_train, y_train)\n",
    "    y_pred = model.predict(X_val)\n",
    "    score_rmse.append(np.sqrt(mean_squared_error(y_val, y_pred)))\n",
    "    score_mae.append(mean_absolute_error(y_val, y_pred))\n",
    "    score_mape.append(mean_absolute_percentage_error(y_val, y_pred))\n",
    "\n",
    "score_before_tuning = pd.DataFrame({'RMSE': score_rmse, 'MAE': score_mae, 'MAPE': score_mape}, index=models.keys())\n",
    "score_before_tuning"
   ]
  },
  {
   "attachments": {},
   "cell_type": "markdown",
   "metadata": {},
   "source": [
    "- Ketika dilakukan prediksi pada test set, performa XGBRegressor secara akumulatif sedikit lebih baik. Hal ini dapat dilihat dari nilai RMSE dan MAE yang sedikit lebih rendah dari RandomForest Regressor"
   ]
  },
  {
   "attachments": {},
   "cell_type": "markdown",
   "metadata": {},
   "source": [
    "### **Hyperparameter Tuning**\n",
    "\n",
    "Pada tahap ini, kita akan melakukan hyperparameter tuning pada model XGBRegressor dengan harapan dapat meningkatkan performa model."
   ]
  },
  {
   "cell_type": "code",
   "execution_count": 110,
   "metadata": {},
   "outputs": [],
   "source": [
    "# Kedalaman pohon\n",
    "max_depth = list(np.arange(1, 11))\n",
    "\n",
    "# Learning rate\n",
    "learning_rate = list(np.arange(1, 100)/100)\n",
    "\n",
    "# Jumlah pohon\n",
    "n_estimators = list(np.arange(100, 201))\n",
    "\n",
    "# Jumlah baris tiap pohon (% dari total baris train set)\n",
    "subsample = list(np.arange(2, 10)/10)\n",
    "\n",
    "# Gamma (min_impurity_decrease)\n",
    "gamma = list(np.arange(1, 11)) # Semakin besar nilainya, semakin konservatif/simpel modelnya\n",
    "\n",
    "# Jumlah feature yang digunakan untuk tiap pohon (% dari total kolom train set)\n",
    "colsample_bytree = list(np.arange(1, 10)/10)\n",
    "\n",
    "# Alpha (regularization)\n",
    "reg_alpha = list(np.logspace(-3, 1, 10)) # Semakin besar nilainya, semakin konservatif/simpel modelnya\n",
    "\n",
    "\n",
    "# Hyperparam space XGboost\n",
    "hyperparam_space_xgb = {\n",
    "    'model__max_depth': max_depth, \n",
    "    'model__learning_rate': learning_rate,\n",
    "    'model__n_estimators': n_estimators,\n",
    "    'model__subsample': subsample,\n",
    "    'model__gamma': gamma,\n",
    "    'model__colsample_bytree': colsample_bytree,\n",
    "    'model__reg_alpha': reg_alpha\n",
    "}"
   ]
  },
  {
   "cell_type": "code",
   "execution_count": 111,
   "metadata": {},
   "outputs": [],
   "source": [
    "# Benchmark model dengan hyperparameter tuning\n",
    "xgb = XGBRegressor(random_state=2020)\n",
    "\n",
    "# Membuat algorithm chains\n",
    "estimator_xgb= Pipeline([\n",
    "        ('preprocessing', transformer_nonlr),\n",
    "        ('model', xgb)\n",
    "        ])\n",
    "\n",
    "crossval = KFold(n_splits=5, shuffle=True, random_state=2020)\n",
    "\n",
    "# Hyperparameter tuning\n",
    "random_xgb = RandomizedSearchCV(\n",
    "    estimator_xgb, \n",
    "    param_distributions = hyperparam_space_xgb,\n",
    "    n_iter = 50,\n",
    "    cv = crossval, \n",
    "    scoring = ['neg_root_mean_squared_error', 'neg_mean_absolute_error', 'neg_mean_absolute_percentage_error'], \n",
    "    n_jobs = -1,\n",
    "    refit = 'neg_root_mean_squared_error', # Hanya bisa memilih salah stau metric untuk optimisasi\n",
    "    random_state = 2020 \n",
    ")"
   ]
  },
  {
   "cell_type": "code",
   "execution_count": 112,
   "metadata": {},
   "outputs": [
    {
     "data": {
      "text/html": [
       "<style>#sk-container-id-2 {color: black;background-color: white;}#sk-container-id-2 pre{padding: 0;}#sk-container-id-2 div.sk-toggleable {background-color: white;}#sk-container-id-2 label.sk-toggleable__label {cursor: pointer;display: block;width: 100%;margin-bottom: 0;padding: 0.3em;box-sizing: border-box;text-align: center;}#sk-container-id-2 label.sk-toggleable__label-arrow:before {content: \"▸\";float: left;margin-right: 0.25em;color: #696969;}#sk-container-id-2 label.sk-toggleable__label-arrow:hover:before {color: black;}#sk-container-id-2 div.sk-estimator:hover label.sk-toggleable__label-arrow:before {color: black;}#sk-container-id-2 div.sk-toggleable__content {max-height: 0;max-width: 0;overflow: hidden;text-align: left;background-color: #f0f8ff;}#sk-container-id-2 div.sk-toggleable__content pre {margin: 0.2em;color: black;border-radius: 0.25em;background-color: #f0f8ff;}#sk-container-id-2 input.sk-toggleable__control:checked~div.sk-toggleable__content {max-height: 200px;max-width: 100%;overflow: auto;}#sk-container-id-2 input.sk-toggleable__control:checked~label.sk-toggleable__label-arrow:before {content: \"▾\";}#sk-container-id-2 div.sk-estimator input.sk-toggleable__control:checked~label.sk-toggleable__label {background-color: #d4ebff;}#sk-container-id-2 div.sk-label input.sk-toggleable__control:checked~label.sk-toggleable__label {background-color: #d4ebff;}#sk-container-id-2 input.sk-hidden--visually {border: 0;clip: rect(1px 1px 1px 1px);clip: rect(1px, 1px, 1px, 1px);height: 1px;margin: -1px;overflow: hidden;padding: 0;position: absolute;width: 1px;}#sk-container-id-2 div.sk-estimator {font-family: monospace;background-color: #f0f8ff;border: 1px dotted black;border-radius: 0.25em;box-sizing: border-box;margin-bottom: 0.5em;}#sk-container-id-2 div.sk-estimator:hover {background-color: #d4ebff;}#sk-container-id-2 div.sk-parallel-item::after {content: \"\";width: 100%;border-bottom: 1px solid gray;flex-grow: 1;}#sk-container-id-2 div.sk-label:hover label.sk-toggleable__label {background-color: #d4ebff;}#sk-container-id-2 div.sk-serial::before {content: \"\";position: absolute;border-left: 1px solid gray;box-sizing: border-box;top: 0;bottom: 0;left: 50%;z-index: 0;}#sk-container-id-2 div.sk-serial {display: flex;flex-direction: column;align-items: center;background-color: white;padding-right: 0.2em;padding-left: 0.2em;position: relative;}#sk-container-id-2 div.sk-item {position: relative;z-index: 1;}#sk-container-id-2 div.sk-parallel {display: flex;align-items: stretch;justify-content: center;background-color: white;position: relative;}#sk-container-id-2 div.sk-item::before, #sk-container-id-2 div.sk-parallel-item::before {content: \"\";position: absolute;border-left: 1px solid gray;box-sizing: border-box;top: 0;bottom: 0;left: 50%;z-index: -1;}#sk-container-id-2 div.sk-parallel-item {display: flex;flex-direction: column;z-index: 1;position: relative;background-color: white;}#sk-container-id-2 div.sk-parallel-item:first-child::after {align-self: flex-end;width: 50%;}#sk-container-id-2 div.sk-parallel-item:last-child::after {align-self: flex-start;width: 50%;}#sk-container-id-2 div.sk-parallel-item:only-child::after {width: 0;}#sk-container-id-2 div.sk-dashed-wrapped {border: 1px dashed gray;margin: 0 0.4em 0.5em 0.4em;box-sizing: border-box;padding-bottom: 0.4em;background-color: white;}#sk-container-id-2 div.sk-label label {font-family: monospace;font-weight: bold;display: inline-block;line-height: 1.2em;}#sk-container-id-2 div.sk-label-container {text-align: center;}#sk-container-id-2 div.sk-container {/* jupyter's `normalize.less` sets `[hidden] { display: none; }` but bootstrap.min.css set `[hidden] { display: none !important; }` so we also need the `!important` here to be able to override the default hidden behavior on the sphinx rendered scikit-learn.org. See: https://github.com/scikit-learn/scikit-learn/issues/21755 */display: inline-block !important;position: relative;}#sk-container-id-2 div.sk-text-repr-fallback {display: none;}</style><div id=\"sk-container-id-2\" class=\"sk-top-container\"><div class=\"sk-text-repr-fallback\"><pre>RandomizedSearchCV(cv=KFold(n_splits=5, random_state=2020, shuffle=True),\n",
       "                   estimator=Pipeline(steps=[(&#x27;preprocessing&#x27;,\n",
       "                                              ColumnTransformer(remainder=&#x27;passthrough&#x27;,\n",
       "                                                                transformers=[(&#x27;onehot&#x27;,\n",
       "                                                                               OneHotEncoder(),\n",
       "                                                                               [&#x27;Gear_Type&#x27;,\n",
       "                                                                                &#x27;Origin&#x27;,\n",
       "                                                                                &#x27;Options&#x27;]),\n",
       "                                                                              (&#x27;binary&#x27;,\n",
       "                                                                               BinaryEncoder(),\n",
       "                                                                               [&#x27;Region&#x27;,\n",
       "                                                                                &#x27;Make&#x27;,\n",
       "                                                                                &#x27;Year&#x27;])])),\n",
       "                                             (&#x27;model&#x27;,\n",
       "                                              XGBRegressor(base_score=None,\n",
       "                                                           booster=None,\n",
       "                                                           callbacks=None...\n",
       "                                                             0.007742636826811269,\n",
       "                                                             0.021544346900318832,\n",
       "                                                             0.05994842503189409,\n",
       "                                                             0.1668100537200059,\n",
       "                                                             0.46415888336127775,\n",
       "                                                             1.2915496650148828,\n",
       "                                                             3.593813663804626,\n",
       "                                                             10.0],\n",
       "                                        &#x27;model__subsample&#x27;: [0.2, 0.3, 0.4, 0.5,\n",
       "                                                             0.6, 0.7, 0.8,\n",
       "                                                             0.9]},\n",
       "                   random_state=2020, refit=&#x27;neg_root_mean_squared_error&#x27;,\n",
       "                   scoring=[&#x27;neg_root_mean_squared_error&#x27;,\n",
       "                            &#x27;neg_mean_absolute_error&#x27;,\n",
       "                            &#x27;neg_mean_absolute_percentage_error&#x27;])</pre><b>In a Jupyter environment, please rerun this cell to show the HTML representation or trust the notebook. <br />On GitHub, the HTML representation is unable to render, please try loading this page with nbviewer.org.</b></div><div class=\"sk-container\" hidden><div class=\"sk-item sk-dashed-wrapped\"><div class=\"sk-label-container\"><div class=\"sk-label sk-toggleable\"><input class=\"sk-toggleable__control sk-hidden--visually\" id=\"sk-estimator-id-11\" type=\"checkbox\" ><label for=\"sk-estimator-id-11\" class=\"sk-toggleable__label sk-toggleable__label-arrow\">RandomizedSearchCV</label><div class=\"sk-toggleable__content\"><pre>RandomizedSearchCV(cv=KFold(n_splits=5, random_state=2020, shuffle=True),\n",
       "                   estimator=Pipeline(steps=[(&#x27;preprocessing&#x27;,\n",
       "                                              ColumnTransformer(remainder=&#x27;passthrough&#x27;,\n",
       "                                                                transformers=[(&#x27;onehot&#x27;,\n",
       "                                                                               OneHotEncoder(),\n",
       "                                                                               [&#x27;Gear_Type&#x27;,\n",
       "                                                                                &#x27;Origin&#x27;,\n",
       "                                                                                &#x27;Options&#x27;]),\n",
       "                                                                              (&#x27;binary&#x27;,\n",
       "                                                                               BinaryEncoder(),\n",
       "                                                                               [&#x27;Region&#x27;,\n",
       "                                                                                &#x27;Make&#x27;,\n",
       "                                                                                &#x27;Year&#x27;])])),\n",
       "                                             (&#x27;model&#x27;,\n",
       "                                              XGBRegressor(base_score=None,\n",
       "                                                           booster=None,\n",
       "                                                           callbacks=None...\n",
       "                                                             0.007742636826811269,\n",
       "                                                             0.021544346900318832,\n",
       "                                                             0.05994842503189409,\n",
       "                                                             0.1668100537200059,\n",
       "                                                             0.46415888336127775,\n",
       "                                                             1.2915496650148828,\n",
       "                                                             3.593813663804626,\n",
       "                                                             10.0],\n",
       "                                        &#x27;model__subsample&#x27;: [0.2, 0.3, 0.4, 0.5,\n",
       "                                                             0.6, 0.7, 0.8,\n",
       "                                                             0.9]},\n",
       "                   random_state=2020, refit=&#x27;neg_root_mean_squared_error&#x27;,\n",
       "                   scoring=[&#x27;neg_root_mean_squared_error&#x27;,\n",
       "                            &#x27;neg_mean_absolute_error&#x27;,\n",
       "                            &#x27;neg_mean_absolute_percentage_error&#x27;])</pre></div></div></div><div class=\"sk-parallel\"><div class=\"sk-parallel-item\"><div class=\"sk-item\"><div class=\"sk-label-container\"><div class=\"sk-label sk-toggleable\"><input class=\"sk-toggleable__control sk-hidden--visually\" id=\"sk-estimator-id-12\" type=\"checkbox\" ><label for=\"sk-estimator-id-12\" class=\"sk-toggleable__label sk-toggleable__label-arrow\">estimator: Pipeline</label><div class=\"sk-toggleable__content\"><pre>Pipeline(steps=[(&#x27;preprocessing&#x27;,\n",
       "                 ColumnTransformer(remainder=&#x27;passthrough&#x27;,\n",
       "                                   transformers=[(&#x27;onehot&#x27;, OneHotEncoder(),\n",
       "                                                  [&#x27;Gear_Type&#x27;, &#x27;Origin&#x27;,\n",
       "                                                   &#x27;Options&#x27;]),\n",
       "                                                 (&#x27;binary&#x27;, BinaryEncoder(),\n",
       "                                                  [&#x27;Region&#x27;, &#x27;Make&#x27;,\n",
       "                                                   &#x27;Year&#x27;])])),\n",
       "                (&#x27;model&#x27;,\n",
       "                 XGBRegressor(base_score=None, booster=None, callbacks=None,\n",
       "                              colsample_bylevel=None, colsample_bynode=None,\n",
       "                              colsample_bytree=None, early_stoppin...\n",
       "                              feature_types=None, gamma=None, gpu_id=None,\n",
       "                              grow_policy=None, importance_type=None,\n",
       "                              interaction_constraints=None, learning_rate=None,\n",
       "                              max_bin=None, max_cat_threshold=None,\n",
       "                              max_cat_to_onehot=None, max_delta_step=None,\n",
       "                              max_depth=None, max_leaves=None,\n",
       "                              min_child_weight=None, missing=nan,\n",
       "                              monotone_constraints=None, n_estimators=100,\n",
       "                              n_jobs=None, num_parallel_tree=None,\n",
       "                              predictor=None, random_state=2020, ...))])</pre></div></div></div><div class=\"sk-serial\"><div class=\"sk-item\"><div class=\"sk-serial\"><div class=\"sk-item sk-dashed-wrapped\"><div class=\"sk-label-container\"><div class=\"sk-label sk-toggleable\"><input class=\"sk-toggleable__control sk-hidden--visually\" id=\"sk-estimator-id-13\" type=\"checkbox\" ><label for=\"sk-estimator-id-13\" class=\"sk-toggleable__label sk-toggleable__label-arrow\">preprocessing: ColumnTransformer</label><div class=\"sk-toggleable__content\"><pre>ColumnTransformer(remainder=&#x27;passthrough&#x27;,\n",
       "                  transformers=[(&#x27;onehot&#x27;, OneHotEncoder(),\n",
       "                                 [&#x27;Gear_Type&#x27;, &#x27;Origin&#x27;, &#x27;Options&#x27;]),\n",
       "                                (&#x27;binary&#x27;, BinaryEncoder(),\n",
       "                                 [&#x27;Region&#x27;, &#x27;Make&#x27;, &#x27;Year&#x27;])])</pre></div></div></div><div class=\"sk-parallel\"><div class=\"sk-parallel-item\"><div class=\"sk-item\"><div class=\"sk-label-container\"><div class=\"sk-label sk-toggleable\"><input class=\"sk-toggleable__control sk-hidden--visually\" id=\"sk-estimator-id-14\" type=\"checkbox\" ><label for=\"sk-estimator-id-14\" class=\"sk-toggleable__label sk-toggleable__label-arrow\">onehot</label><div class=\"sk-toggleable__content\"><pre>[&#x27;Gear_Type&#x27;, &#x27;Origin&#x27;, &#x27;Options&#x27;]</pre></div></div></div><div class=\"sk-serial\"><div class=\"sk-item\"><div class=\"sk-estimator sk-toggleable\"><input class=\"sk-toggleable__control sk-hidden--visually\" id=\"sk-estimator-id-15\" type=\"checkbox\" ><label for=\"sk-estimator-id-15\" class=\"sk-toggleable__label sk-toggleable__label-arrow\">OneHotEncoder</label><div class=\"sk-toggleable__content\"><pre>OneHotEncoder()</pre></div></div></div></div></div></div><div class=\"sk-parallel-item\"><div class=\"sk-item\"><div class=\"sk-label-container\"><div class=\"sk-label sk-toggleable\"><input class=\"sk-toggleable__control sk-hidden--visually\" id=\"sk-estimator-id-16\" type=\"checkbox\" ><label for=\"sk-estimator-id-16\" class=\"sk-toggleable__label sk-toggleable__label-arrow\">binary</label><div class=\"sk-toggleable__content\"><pre>[&#x27;Region&#x27;, &#x27;Make&#x27;, &#x27;Year&#x27;]</pre></div></div></div><div class=\"sk-serial\"><div class=\"sk-item\"><div class=\"sk-estimator sk-toggleable\"><input class=\"sk-toggleable__control sk-hidden--visually\" id=\"sk-estimator-id-17\" type=\"checkbox\" ><label for=\"sk-estimator-id-17\" class=\"sk-toggleable__label sk-toggleable__label-arrow\">BinaryEncoder</label><div class=\"sk-toggleable__content\"><pre>BinaryEncoder()</pre></div></div></div></div></div></div><div class=\"sk-parallel-item\"><div class=\"sk-item\"><div class=\"sk-label-container\"><div class=\"sk-label sk-toggleable\"><input class=\"sk-toggleable__control sk-hidden--visually\" id=\"sk-estimator-id-18\" type=\"checkbox\" ><label for=\"sk-estimator-id-18\" class=\"sk-toggleable__label sk-toggleable__label-arrow\">remainder</label><div class=\"sk-toggleable__content\"><pre>[&#x27;Engine_Size&#x27;, &#x27;Mileage&#x27;]</pre></div></div></div><div class=\"sk-serial\"><div class=\"sk-item\"><div class=\"sk-estimator sk-toggleable\"><input class=\"sk-toggleable__control sk-hidden--visually\" id=\"sk-estimator-id-19\" type=\"checkbox\" ><label for=\"sk-estimator-id-19\" class=\"sk-toggleable__label sk-toggleable__label-arrow\">passthrough</label><div class=\"sk-toggleable__content\"><pre>passthrough</pre></div></div></div></div></div></div></div></div><div class=\"sk-item\"><div class=\"sk-estimator sk-toggleable\"><input class=\"sk-toggleable__control sk-hidden--visually\" id=\"sk-estimator-id-20\" type=\"checkbox\" ><label for=\"sk-estimator-id-20\" class=\"sk-toggleable__label sk-toggleable__label-arrow\">XGBRegressor</label><div class=\"sk-toggleable__content\"><pre>XGBRegressor(base_score=None, booster=None, callbacks=None,\n",
       "             colsample_bylevel=None, colsample_bynode=None,\n",
       "             colsample_bytree=None, early_stopping_rounds=None,\n",
       "             enable_categorical=False, eval_metric=None, feature_types=None,\n",
       "             gamma=None, gpu_id=None, grow_policy=None, importance_type=None,\n",
       "             interaction_constraints=None, learning_rate=None, max_bin=None,\n",
       "             max_cat_threshold=None, max_cat_to_onehot=None,\n",
       "             max_delta_step=None, max_depth=None, max_leaves=None,\n",
       "             min_child_weight=None, missing=nan, monotone_constraints=None,\n",
       "             n_estimators=100, n_jobs=None, num_parallel_tree=None,\n",
       "             predictor=None, random_state=2020, ...)</pre></div></div></div></div></div></div></div></div></div></div></div></div>"
      ],
      "text/plain": [
       "RandomizedSearchCV(cv=KFold(n_splits=5, random_state=2020, shuffle=True),\n",
       "                   estimator=Pipeline(steps=[('preprocessing',\n",
       "                                              ColumnTransformer(remainder='passthrough',\n",
       "                                                                transformers=[('onehot',\n",
       "                                                                               OneHotEncoder(),\n",
       "                                                                               ['Gear_Type',\n",
       "                                                                                'Origin',\n",
       "                                                                                'Options']),\n",
       "                                                                              ('binary',\n",
       "                                                                               BinaryEncoder(),\n",
       "                                                                               ['Region',\n",
       "                                                                                'Make',\n",
       "                                                                                'Year'])])),\n",
       "                                             ('model',\n",
       "                                              XGBRegressor(base_score=None,\n",
       "                                                           booster=None,\n",
       "                                                           callbacks=None...\n",
       "                                                             0.007742636826811269,\n",
       "                                                             0.021544346900318832,\n",
       "                                                             0.05994842503189409,\n",
       "                                                             0.1668100537200059,\n",
       "                                                             0.46415888336127775,\n",
       "                                                             1.2915496650148828,\n",
       "                                                             3.593813663804626,\n",
       "                                                             10.0],\n",
       "                                        'model__subsample': [0.2, 0.3, 0.4, 0.5,\n",
       "                                                             0.6, 0.7, 0.8,\n",
       "                                                             0.9]},\n",
       "                   random_state=2020, refit='neg_root_mean_squared_error',\n",
       "                   scoring=['neg_root_mean_squared_error',\n",
       "                            'neg_mean_absolute_error',\n",
       "                            'neg_mean_absolute_percentage_error'])"
      ]
     },
     "execution_count": 112,
     "metadata": {},
     "output_type": "execute_result"
    }
   ],
   "source": [
    "# Fitting data training untuk mencari parameter terbaik\n",
    "random_xgb.fit(X_trainval, y_trainval)"
   ]
  },
  {
   "cell_type": "code",
   "execution_count": 113,
   "metadata": {},
   "outputs": [
    {
     "data": {
      "text/html": [
       "<div>\n",
       "<style scoped>\n",
       "    .dataframe tbody tr th:only-of-type {\n",
       "        vertical-align: middle;\n",
       "    }\n",
       "\n",
       "    .dataframe tbody tr th {\n",
       "        vertical-align: top;\n",
       "    }\n",
       "\n",
       "    .dataframe thead th {\n",
       "        text-align: right;\n",
       "    }\n",
       "</style>\n",
       "<table border=\"1\" class=\"dataframe\">\n",
       "  <thead>\n",
       "    <tr style=\"text-align: right;\">\n",
       "      <th></th>\n",
       "      <th>mean_fit_time</th>\n",
       "      <th>std_fit_time</th>\n",
       "      <th>mean_score_time</th>\n",
       "      <th>std_score_time</th>\n",
       "      <th>param_model__subsample</th>\n",
       "      <th>param_model__reg_alpha</th>\n",
       "      <th>param_model__n_estimators</th>\n",
       "      <th>param_model__max_depth</th>\n",
       "      <th>param_model__learning_rate</th>\n",
       "      <th>param_model__gamma</th>\n",
       "      <th>...</th>\n",
       "      <th>std_test_neg_mean_absolute_error</th>\n",
       "      <th>rank_test_neg_mean_absolute_error</th>\n",
       "      <th>split0_test_neg_mean_absolute_percentage_error</th>\n",
       "      <th>split1_test_neg_mean_absolute_percentage_error</th>\n",
       "      <th>split2_test_neg_mean_absolute_percentage_error</th>\n",
       "      <th>split3_test_neg_mean_absolute_percentage_error</th>\n",
       "      <th>split4_test_neg_mean_absolute_percentage_error</th>\n",
       "      <th>mean_test_neg_mean_absolute_percentage_error</th>\n",
       "      <th>std_test_neg_mean_absolute_percentage_error</th>\n",
       "      <th>rank_test_neg_mean_absolute_percentage_error</th>\n",
       "    </tr>\n",
       "  </thead>\n",
       "  <tbody>\n",
       "    <tr>\n",
       "      <th>29</th>\n",
       "      <td>0.525738</td>\n",
       "      <td>0.063468</td>\n",
       "      <td>0.031841</td>\n",
       "      <td>0.015199</td>\n",
       "      <td>0.9</td>\n",
       "      <td>0.021544</td>\n",
       "      <td>110</td>\n",
       "      <td>5</td>\n",
       "      <td>0.16</td>\n",
       "      <td>4</td>\n",
       "      <td>...</td>\n",
       "      <td>412.642832</td>\n",
       "      <td>2</td>\n",
       "      <td>-0.772924</td>\n",
       "      <td>-273.291911</td>\n",
       "      <td>-0.988534</td>\n",
       "      <td>-0.894582</td>\n",
       "      <td>-1.690913</td>\n",
       "      <td>-55.527773</td>\n",
       "      <td>108.882538</td>\n",
       "      <td>41</td>\n",
       "    </tr>\n",
       "    <tr>\n",
       "      <th>12</th>\n",
       "      <td>0.720584</td>\n",
       "      <td>0.073485</td>\n",
       "      <td>0.029353</td>\n",
       "      <td>0.007895</td>\n",
       "      <td>0.9</td>\n",
       "      <td>0.059948</td>\n",
       "      <td>155</td>\n",
       "      <td>5</td>\n",
       "      <td>0.14</td>\n",
       "      <td>5</td>\n",
       "      <td>...</td>\n",
       "      <td>510.804338</td>\n",
       "      <td>1</td>\n",
       "      <td>-0.786567</td>\n",
       "      <td>-242.342587</td>\n",
       "      <td>-0.930760</td>\n",
       "      <td>-0.856100</td>\n",
       "      <td>-1.683738</td>\n",
       "      <td>-49.319950</td>\n",
       "      <td>96.511859</td>\n",
       "      <td>23</td>\n",
       "    </tr>\n",
       "    <tr>\n",
       "      <th>24</th>\n",
       "      <td>1.760541</td>\n",
       "      <td>0.095279</td>\n",
       "      <td>0.055806</td>\n",
       "      <td>0.012832</td>\n",
       "      <td>0.7</td>\n",
       "      <td>3.593814</td>\n",
       "      <td>138</td>\n",
       "      <td>10</td>\n",
       "      <td>0.07</td>\n",
       "      <td>8</td>\n",
       "      <td>...</td>\n",
       "      <td>646.022670</td>\n",
       "      <td>3</td>\n",
       "      <td>-0.767937</td>\n",
       "      <td>-269.585208</td>\n",
       "      <td>-0.980579</td>\n",
       "      <td>-0.950658</td>\n",
       "      <td>-1.579722</td>\n",
       "      <td>-54.772821</td>\n",
       "      <td>107.406541</td>\n",
       "      <td>40</td>\n",
       "    </tr>\n",
       "    <tr>\n",
       "      <th>31</th>\n",
       "      <td>1.177091</td>\n",
       "      <td>0.164188</td>\n",
       "      <td>0.045077</td>\n",
       "      <td>0.026528</td>\n",
       "      <td>0.6</td>\n",
       "      <td>0.464159</td>\n",
       "      <td>135</td>\n",
       "      <td>7</td>\n",
       "      <td>0.15</td>\n",
       "      <td>5</td>\n",
       "      <td>...</td>\n",
       "      <td>480.275391</td>\n",
       "      <td>4</td>\n",
       "      <td>-0.682861</td>\n",
       "      <td>-263.316836</td>\n",
       "      <td>-0.983362</td>\n",
       "      <td>-0.956718</td>\n",
       "      <td>-1.613814</td>\n",
       "      <td>-53.510718</td>\n",
       "      <td>104.903503</td>\n",
       "      <td>37</td>\n",
       "    </tr>\n",
       "    <tr>\n",
       "      <th>9</th>\n",
       "      <td>0.480129</td>\n",
       "      <td>0.082483</td>\n",
       "      <td>0.034688</td>\n",
       "      <td>0.015925</td>\n",
       "      <td>0.4</td>\n",
       "      <td>0.16681</td>\n",
       "      <td>140</td>\n",
       "      <td>3</td>\n",
       "      <td>0.11</td>\n",
       "      <td>1</td>\n",
       "      <td>...</td>\n",
       "      <td>687.533256</td>\n",
       "      <td>5</td>\n",
       "      <td>-0.854193</td>\n",
       "      <td>-259.864785</td>\n",
       "      <td>-1.025035</td>\n",
       "      <td>-0.911682</td>\n",
       "      <td>-1.730162</td>\n",
       "      <td>-52.877171</td>\n",
       "      <td>103.494285</td>\n",
       "      <td>36</td>\n",
       "    </tr>\n",
       "  </tbody>\n",
       "</table>\n",
       "<p>5 rows × 36 columns</p>\n",
       "</div>"
      ],
      "text/plain": [
       "    mean_fit_time  std_fit_time  mean_score_time  std_score_time  \\\n",
       "29       0.525738      0.063468         0.031841        0.015199   \n",
       "12       0.720584      0.073485         0.029353        0.007895   \n",
       "24       1.760541      0.095279         0.055806        0.012832   \n",
       "31       1.177091      0.164188         0.045077        0.026528   \n",
       "9        0.480129      0.082483         0.034688        0.015925   \n",
       "\n",
       "   param_model__subsample param_model__reg_alpha param_model__n_estimators  \\\n",
       "29                    0.9               0.021544                       110   \n",
       "12                    0.9               0.059948                       155   \n",
       "24                    0.7               3.593814                       138   \n",
       "31                    0.6               0.464159                       135   \n",
       "9                     0.4                0.16681                       140   \n",
       "\n",
       "   param_model__max_depth param_model__learning_rate param_model__gamma  ...  \\\n",
       "29                      5                       0.16                  4  ...   \n",
       "12                      5                       0.14                  5  ...   \n",
       "24                     10                       0.07                  8  ...   \n",
       "31                      7                       0.15                  5  ...   \n",
       "9                       3                       0.11                  1  ...   \n",
       "\n",
       "   std_test_neg_mean_absolute_error rank_test_neg_mean_absolute_error  \\\n",
       "29                       412.642832                                 2   \n",
       "12                       510.804338                                 1   \n",
       "24                       646.022670                                 3   \n",
       "31                       480.275391                                 4   \n",
       "9                        687.533256                                 5   \n",
       "\n",
       "    split0_test_neg_mean_absolute_percentage_error  \\\n",
       "29                                       -0.772924   \n",
       "12                                       -0.786567   \n",
       "24                                       -0.767937   \n",
       "31                                       -0.682861   \n",
       "9                                        -0.854193   \n",
       "\n",
       "    split1_test_neg_mean_absolute_percentage_error  \\\n",
       "29                                     -273.291911   \n",
       "12                                     -242.342587   \n",
       "24                                     -269.585208   \n",
       "31                                     -263.316836   \n",
       "9                                      -259.864785   \n",
       "\n",
       "    split2_test_neg_mean_absolute_percentage_error  \\\n",
       "29                                       -0.988534   \n",
       "12                                       -0.930760   \n",
       "24                                       -0.980579   \n",
       "31                                       -0.983362   \n",
       "9                                        -1.025035   \n",
       "\n",
       "    split3_test_neg_mean_absolute_percentage_error  \\\n",
       "29                                       -0.894582   \n",
       "12                                       -0.856100   \n",
       "24                                       -0.950658   \n",
       "31                                       -0.956718   \n",
       "9                                        -0.911682   \n",
       "\n",
       "    split4_test_neg_mean_absolute_percentage_error  \\\n",
       "29                                       -1.690913   \n",
       "12                                       -1.683738   \n",
       "24                                       -1.579722   \n",
       "31                                       -1.613814   \n",
       "9                                        -1.730162   \n",
       "\n",
       "    mean_test_neg_mean_absolute_percentage_error  \\\n",
       "29                                    -55.527773   \n",
       "12                                    -49.319950   \n",
       "24                                    -54.772821   \n",
       "31                                    -53.510718   \n",
       "9                                     -52.877171   \n",
       "\n",
       "    std_test_neg_mean_absolute_percentage_error  \\\n",
       "29                                   108.882538   \n",
       "12                                    96.511859   \n",
       "24                                   107.406541   \n",
       "31                                   104.903503   \n",
       "9                                    103.494285   \n",
       "\n",
       "    rank_test_neg_mean_absolute_percentage_error  \n",
       "29                                            41  \n",
       "12                                            23  \n",
       "24                                            40  \n",
       "31                                            37  \n",
       "9                                             36  \n",
       "\n",
       "[5 rows x 36 columns]"
      ]
     },
     "execution_count": 113,
     "metadata": {},
     "output_type": "execute_result"
    }
   ],
   "source": [
    "# Melihat hasil tuning dalam bentuk dataframe. Diurutkan berdasarkan RMSE, MAE & MAPE\n",
    "pd.DataFrame(random_xgb.cv_results_).sort_values(by=['rank_test_neg_root_mean_squared_error', 'rank_test_neg_mean_absolute_error', 'rank_test_neg_mean_absolute_percentage_error']).head()"
   ]
  },
  {
   "cell_type": "code",
   "execution_count": 114,
   "metadata": {},
   "outputs": [
    {
     "name": "stdout",
     "output_type": "stream",
     "text": [
      "XGBRegressor\n",
      "Best_score: -21521.882994744334\n",
      "Best_params: {'model__subsample': 0.9, 'model__reg_alpha': 0.021544346900318832, 'model__n_estimators': 110, 'model__max_depth': 5, 'model__learning_rate': 0.16, 'model__gamma': 4, 'model__colsample_bytree': 0.8}\n"
     ]
    }
   ],
   "source": [
    "# Cek skor dan params terbaik\n",
    "print('XGBRegressor')\n",
    "print('Best_score:', random_xgb.best_score_)\n",
    "print('Best_params:', random_xgb.best_params_)"
   ]
  },
  {
   "attachments": {},
   "cell_type": "markdown",
   "metadata": {},
   "source": [
    "### **Predict to Test Set with the Tuned Model**\n",
    "\n",
    "Melakukan prediksi pada test set dengan menggunakan model RandomForestRegressor dan hyperparameter terpilih."
   ]
  },
  {
   "cell_type": "code",
   "execution_count": 115,
   "metadata": {},
   "outputs": [
    {
     "data": {
      "text/html": [
       "<div>\n",
       "<style scoped>\n",
       "    .dataframe tbody tr th:only-of-type {\n",
       "        vertical-align: middle;\n",
       "    }\n",
       "\n",
       "    .dataframe tbody tr th {\n",
       "        vertical-align: top;\n",
       "    }\n",
       "\n",
       "    .dataframe thead th {\n",
       "        text-align: right;\n",
       "    }\n",
       "</style>\n",
       "<table border=\"1\" class=\"dataframe\">\n",
       "  <thead>\n",
       "    <tr style=\"text-align: right;\">\n",
       "      <th></th>\n",
       "      <th>RMSE</th>\n",
       "      <th>MAE</th>\n",
       "      <th>MAPE</th>\n",
       "    </tr>\n",
       "  </thead>\n",
       "  <tbody>\n",
       "    <tr>\n",
       "      <th>XGB</th>\n",
       "      <td>19355.525979</td>\n",
       "      <td>12967.985672</td>\n",
       "      <td>0.570327</td>\n",
       "    </tr>\n",
       "  </tbody>\n",
       "</table>\n",
       "</div>"
      ],
      "text/plain": [
       "             RMSE           MAE      MAPE\n",
       "XGB  19355.525979  12967.985672  0.570327"
      ]
     },
     "execution_count": 115,
     "metadata": {},
     "output_type": "execute_result"
    }
   ],
   "source": [
    "# Model XGBoost\n",
    "model = {'XGB': RandomForestRegressor(random_state=2020)}\n",
    "\n",
    "# Define model terhadap estimator terbaik\n",
    "xgb_tuning = random_xgb.best_estimator_\n",
    "\n",
    "# Fitting model\n",
    "xgb_tuning.fit(X_trainval, y_trainval)\n",
    "\n",
    "# Predict test set\n",
    "y_pred_xgb_tuning = xgb_tuning.predict(X_test)\n",
    "\n",
    "# Simpan nilai metrics RMSE, MAE & MAPE setelah tuning\n",
    "rmse_xgb_tuning = np.sqrt(mean_squared_error(y_test, y_pred_xgb_tuning))\n",
    "mae_xgb_tuning = mean_absolute_error(y_test, y_pred_xgb_tuning)\n",
    "mape_xgb_tuning = mean_absolute_percentage_error(y_test, y_pred_xgb_tuning)\n",
    "\n",
    "score_after_tuning = pd.DataFrame({'RMSE': rmse_xgb_tuning, 'MAE': mae_xgb_tuning, 'MAPE': mape_xgb_tuning}, index=model.keys())\n",
    "score_after_tuning"
   ]
  },
  {
   "attachments": {},
   "cell_type": "markdown",
   "metadata": {},
   "source": [
    "### **Performance Comparison**\n",
    "\n",
    "Perbandingan performa model RandomForestRegressor sebelum dan sesudah dilakukan hyperparameter tuning."
   ]
  },
  {
   "cell_type": "code",
   "execution_count": 116,
   "metadata": {},
   "outputs": [
    {
     "data": {
      "text/html": [
       "<div>\n",
       "<style scoped>\n",
       "    .dataframe tbody tr th:only-of-type {\n",
       "        vertical-align: middle;\n",
       "    }\n",
       "\n",
       "    .dataframe tbody tr th {\n",
       "        vertical-align: top;\n",
       "    }\n",
       "\n",
       "    .dataframe thead th {\n",
       "        text-align: right;\n",
       "    }\n",
       "</style>\n",
       "<table border=\"1\" class=\"dataframe\">\n",
       "  <thead>\n",
       "    <tr style=\"text-align: right;\">\n",
       "      <th></th>\n",
       "      <th>RMSE</th>\n",
       "      <th>MAE</th>\n",
       "      <th>MAPE</th>\n",
       "    </tr>\n",
       "  </thead>\n",
       "  <tbody>\n",
       "    <tr>\n",
       "      <th>XGB</th>\n",
       "      <td>21050.29682</td>\n",
       "      <td>13759.109266</td>\n",
       "      <td>206.985667</td>\n",
       "    </tr>\n",
       "  </tbody>\n",
       "</table>\n",
       "</div>"
      ],
      "text/plain": [
       "            RMSE           MAE        MAPE\n",
       "XGB  21050.29682  13759.109266  206.985667"
      ]
     },
     "execution_count": 116,
     "metadata": {},
     "output_type": "execute_result"
    }
   ],
   "source": [
    "# Sebelum hyperparameter tuning\n",
    "pd.DataFrame(score_before_tuning.loc['XGB']).T"
   ]
  },
  {
   "cell_type": "code",
   "execution_count": 117,
   "metadata": {},
   "outputs": [
    {
     "data": {
      "text/html": [
       "<div>\n",
       "<style scoped>\n",
       "    .dataframe tbody tr th:only-of-type {\n",
       "        vertical-align: middle;\n",
       "    }\n",
       "\n",
       "    .dataframe tbody tr th {\n",
       "        vertical-align: top;\n",
       "    }\n",
       "\n",
       "    .dataframe thead th {\n",
       "        text-align: right;\n",
       "    }\n",
       "</style>\n",
       "<table border=\"1\" class=\"dataframe\">\n",
       "  <thead>\n",
       "    <tr style=\"text-align: right;\">\n",
       "      <th></th>\n",
       "      <th>RMSE</th>\n",
       "      <th>MAE</th>\n",
       "      <th>MAPE</th>\n",
       "    </tr>\n",
       "  </thead>\n",
       "  <tbody>\n",
       "    <tr>\n",
       "      <th>XGB</th>\n",
       "      <td>19355.525979</td>\n",
       "      <td>12967.985672</td>\n",
       "      <td>0.570327</td>\n",
       "    </tr>\n",
       "  </tbody>\n",
       "</table>\n",
       "</div>"
      ],
      "text/plain": [
       "             RMSE           MAE      MAPE\n",
       "XGB  19355.525979  12967.985672  0.570327"
      ]
     },
     "execution_count": 117,
     "metadata": {},
     "output_type": "execute_result"
    }
   ],
   "source": [
    "# Setelah hyperparameter tuning\n",
    "score_after_tuning"
   ]
  },
  {
   "attachments": {},
   "cell_type": "markdown",
   "metadata": {},
   "source": [
    "Model mengalami peningkatan performa (nilai RMSE, MAE & MAPE berkurang) dengan dilakukannya hyperparameter tuning, walaupun hanya sedikit."
   ]
  },
  {
   "cell_type": "code",
   "execution_count": 119,
   "metadata": {},
   "outputs": [
    {
     "data": {
      "image/png": "[encoded data removed]",
      "text/plain": [
       "<Figure size 1400x800 with 1 Axes>"
      ]
     },
     "metadata": {},
     "output_type": "display_data"
    }
   ],
   "source": [
    "plt.figure(figsize=(14, 8))\n",
    "plot = sns.scatterplot(x=y_test, y=y_pred_xgb_tuning).set(title='Actual vs. Prediction Price', \n",
    "                                               xlabel='Actual Price', \n",
    "                                               ylabel='Predicted Price')"
   ]
  },
  {
   "attachments": {},
   "cell_type": "markdown",
   "metadata": {},
   "source": [
    "Adanya nilai-nilai error yang besar membuat perbedaan yang cukup signifikan antara nilai RMSE dan MAE. Hal ini dapat tergambarkan pula pada plot di atas, di mana terdapat harga aktual yang rendah tapi diprediksi jauh lebih tinggi (overestimation), dan juga sebaliknya (underestimation). Nilai MAPE yang didapat, yaitu sekitar 57% menjadikan model ini belum dapat dikategorikan ke dalam 'reasonable forecasting' (Lewis, 1982).\n",
    "\n",
    "*Source: Lewis, C. D. (1982). Industrial and business forecasting methods: A practical guide to exponential smoothing and curve fitting*"
   ]
  },
  {
   "attachments": {},
   "cell_type": "markdown",
   "metadata": {},
   "source": [
    "### **Feature Importances**"
   ]
  },
  {
   "cell_type": "code",
   "execution_count": null,
   "metadata": {},
   "outputs": [
    {
     "data": {
      "text/plain": [
       "<AxesSubplot:title={'center':'Feature Importances'}>"
      ]
     },
     "execution_count": 1344,
     "metadata": {},
     "output_type": "execute_result"
    },
    {
     "data": {
      "image/png": "[encoded data removed]",
      "text/plain": [
       "<Figure size 640x480 with 1 Axes>"
      ]
     },
     "metadata": {},
     "output_type": "display_data"
    }
   ],
   "source": [
    "# Plot feature importances\n",
    "feature_imp = pd.Series(rfg_tuning['model'].feature_importances_, transformer.get_feature_names()).sort_values(ascending = False).head()\n",
    "feature_imp.plot(kind='barh', title='Feature Importances')"
   ]
  },
  {
   "attachments": {},
   "cell_type": "markdown",
   "metadata": {},
   "source": [
    "> ## **Conclusion**  <br>"
   ]
  },
  {
   "attachments": {},
   "cell_type": "markdown",
   "metadata": {},
   "source": [
    "Berdasarkan pemodelan `Machine Learning` yang telah dilakukan, didapatkan beberapa kesimpulan sebagai berikut.\n",
    "* Fitur numerik seperti `Engine_Size`, `Year` dan `Mileage` tidak memiliki korelasi yang baik dengan target `Price`\n",
    "* Model yang telah disusun memiliki beberapa batasan dalam rentang target dan fitur numerik yakni:\n",
    "    * Target `Price`: (1 - 182.000)\n",
    "    * Fitur `Mileage`: (100 - 433.000)\n",
    "    * Fitur `Year`: (2003 - 2021)\n",
    "* Berdasarkan pemodelan yang dilakukan fitur `Engine_Size`, `Year` dan `Mileage` menjadi fitur yang paling berpengaruh terhadap `Price`\n",
    "* Metrik evaluasi yang digunakan pada model adalah nilai RMSE, MAE & MAPE. Jika ditinjau dari nilai MAPE yang dihasilkan oleh model setelah dilakukan hyperparameter tuning, yaitu sebesar ~57%, kita dapat menyimpulkan bahwa bila nanti model yang kita buat ini digunakan untuk memperkirakan harga listing baru di New York City pada rentang nilai seperti yang dilatih terhadap model maka perkiraan harganya rata-rata akan meleset kurang lebih sebesar 57% dari harga seharusnya. \n",
    "* Model yang dibangun masih memiliki tingkat variasi serta bias yang tinggi. Hal ini dapat disebabkan oleh ketidakberaturan harga penjualan mobil bekas di dalam dataset yang dianalisis."
   ]
  },
  {
   "attachments": {},
   "cell_type": "markdown",
   "metadata": {},
   "source": [
    "> ## **Recommendation**  <br>"
   ]
  },
  {
   "attachments": {},
   "cell_type": "markdown",
   "metadata": {},
   "source": [
    "Terdapat beberapa hal yang dapat dilakukan meninggkatkan reliabilitas model.\n",
    "1. Perlu dilakukan analisis mengenai variabel yang menyebabkan model menghasilkan error yang tinggi, sehingga dapat dilakukan feature engineering untuk meningkatkan kemampuan model.\n",
    "1. Perlu dilakukan penambahan fitur yang memiliki korelasi yang baik dengan target `Price` seperti kerusakan pada mobil dan metode pembelian.\n",
    "1. Penambahan data dapat dicoba untuk menambah kemampuan model."
   ]
  }
 ],
 "metadata": {
  "kernelspec": {
   "display_name": "Python 3",
   "language": "python",
   "name": "python3"
  },
  "language_info": {
   "codemirror_mode": {
    "name": "ipython",
    "version": 3
   },
   "file_extension": ".py",
   "mimetype": "text/x-python",
   "name": "python",
   "nbconvert_exporter": "python",
   "pygments_lexer": "ipython3",
   "version": "3.9.1"
  },
  "orig_nbformat": 4
 },
 "nbformat": 4,
 "nbformat_minor": 2
}
